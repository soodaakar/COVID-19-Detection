{
 "cells": [
  {
   "cell_type": "code",
   "execution_count": 1,
   "id": "024ed7dc",
   "metadata": {},
   "outputs": [],
   "source": [
    "import pandas as pd\n",
    "import numpy as np\n",
    "import re\n",
    "import matplotlib.pyplot as plt\n",
    "import os\n",
    "import numpy as np\n",
    "import tensorflow as tf\n",
    "import tensorflow_io as tfio\n",
    "import cv2"
   ]
  },
  {
   "cell_type": "code",
   "execution_count": 2,
   "id": "7a080f68",
   "metadata": {},
   "outputs": [],
   "source": [
    "label_data = pd.read_csv('kaggle/train_study_level.csv')"
   ]
  },
  {
   "cell_type": "code",
   "execution_count": 3,
   "id": "799acea4",
   "metadata": {},
   "outputs": [
    {
     "data": {
      "text/plain": [
       "(6054, 5)"
      ]
     },
     "execution_count": 3,
     "metadata": {},
     "output_type": "execute_result"
    }
   ],
   "source": [
    "label_data.shape"
   ]
  },
  {
   "cell_type": "code",
   "execution_count": 4,
   "id": "3e8d4d4d",
   "metadata": {},
   "outputs": [],
   "source": [
    "label2 = pd.read_csv('kaggle/train_image_level.csv')"
   ]
  },
  {
   "cell_type": "code",
   "execution_count": 5,
   "id": "67b7d65a",
   "metadata": {},
   "outputs": [
    {
     "data": {
      "text/plain": [
       "(6334, 4)"
      ]
     },
     "execution_count": 5,
     "metadata": {},
     "output_type": "execute_result"
    }
   ],
   "source": [
    "label2.shape"
   ]
  },
  {
   "cell_type": "code",
   "execution_count": 6,
   "id": "0f2bbb69",
   "metadata": {},
   "outputs": [
    {
     "data": {
      "text/html": [
       "<div>\n",
       "<style scoped>\n",
       "    .dataframe tbody tr th:only-of-type {\n",
       "        vertical-align: middle;\n",
       "    }\n",
       "\n",
       "    .dataframe tbody tr th {\n",
       "        vertical-align: top;\n",
       "    }\n",
       "\n",
       "    .dataframe thead th {\n",
       "        text-align: right;\n",
       "    }\n",
       "</style>\n",
       "<table border=\"1\" class=\"dataframe\">\n",
       "  <thead>\n",
       "    <tr style=\"text-align: right;\">\n",
       "      <th></th>\n",
       "      <th>id</th>\n",
       "      <th>boxes</th>\n",
       "      <th>label</th>\n",
       "      <th>StudyInstanceUID</th>\n",
       "    </tr>\n",
       "  </thead>\n",
       "  <tbody>\n",
       "    <tr>\n",
       "      <th>0</th>\n",
       "      <td>000a312787f2_image</td>\n",
       "      <td>[{'x': 789.28836, 'y': 582.43035, 'width': 102...</td>\n",
       "      <td>opacity 1 789.28836 582.43035 1815.94498 2499....</td>\n",
       "      <td>5776db0cec75</td>\n",
       "    </tr>\n",
       "    <tr>\n",
       "      <th>1</th>\n",
       "      <td>000c3a3f293f_image</td>\n",
       "      <td>NaN</td>\n",
       "      <td>none 1 0 0 1 1</td>\n",
       "      <td>ff0879eb20ed</td>\n",
       "    </tr>\n",
       "  </tbody>\n",
       "</table>\n",
       "</div>"
      ],
      "text/plain": [
       "                   id                                              boxes  \\\n",
       "0  000a312787f2_image  [{'x': 789.28836, 'y': 582.43035, 'width': 102...   \n",
       "1  000c3a3f293f_image                                                NaN   \n",
       "\n",
       "                                               label StudyInstanceUID  \n",
       "0  opacity 1 789.28836 582.43035 1815.94498 2499....     5776db0cec75  \n",
       "1                                     none 1 0 0 1 1     ff0879eb20ed  "
      ]
     },
     "execution_count": 6,
     "metadata": {},
     "output_type": "execute_result"
    }
   ],
   "source": [
    "label2.head(2)"
   ]
  },
  {
   "cell_type": "code",
   "execution_count": 7,
   "id": "935d4951",
   "metadata": {},
   "outputs": [],
   "source": [
    "label2['StudyInstanceUID'] = label2['StudyInstanceUID'].apply(lambda x : x+'_study')"
   ]
  },
  {
   "cell_type": "code",
   "execution_count": 8,
   "id": "64d4d096",
   "metadata": {},
   "outputs": [],
   "source": [
    "label_data = label_data.merge(label2,left_on='id',right_on='StudyInstanceUID',how='left')"
   ]
  },
  {
   "cell_type": "code",
   "execution_count": 9,
   "id": "add4b6cf",
   "metadata": {},
   "outputs": [
    {
     "data": {
      "text/html": [
       "<div>\n",
       "<style scoped>\n",
       "    .dataframe tbody tr th:only-of-type {\n",
       "        vertical-align: middle;\n",
       "    }\n",
       "\n",
       "    .dataframe tbody tr th {\n",
       "        vertical-align: top;\n",
       "    }\n",
       "\n",
       "    .dataframe thead th {\n",
       "        text-align: right;\n",
       "    }\n",
       "</style>\n",
       "<table border=\"1\" class=\"dataframe\">\n",
       "  <thead>\n",
       "    <tr style=\"text-align: right;\">\n",
       "      <th></th>\n",
       "      <th>id_x</th>\n",
       "      <th>Negative for Pneumonia</th>\n",
       "      <th>Typical Appearance</th>\n",
       "      <th>Indeterminate Appearance</th>\n",
       "      <th>Atypical Appearance</th>\n",
       "      <th>id_y</th>\n",
       "      <th>boxes</th>\n",
       "      <th>label</th>\n",
       "      <th>StudyInstanceUID</th>\n",
       "    </tr>\n",
       "  </thead>\n",
       "  <tbody>\n",
       "    <tr>\n",
       "      <th>0</th>\n",
       "      <td>00086460a852_study</td>\n",
       "      <td>0</td>\n",
       "      <td>1</td>\n",
       "      <td>0</td>\n",
       "      <td>0</td>\n",
       "      <td>65761e66de9f_image</td>\n",
       "      <td>[{'x': 720.65215, 'y': 636.51048, 'width': 332...</td>\n",
       "      <td>opacity 1 720.65215 636.51048 1052.84563 1284....</td>\n",
       "      <td>00086460a852_study</td>\n",
       "    </tr>\n",
       "    <tr>\n",
       "      <th>1</th>\n",
       "      <td>000c9c05fd14_study</td>\n",
       "      <td>0</td>\n",
       "      <td>0</td>\n",
       "      <td>0</td>\n",
       "      <td>1</td>\n",
       "      <td>51759b5579bc_image</td>\n",
       "      <td>NaN</td>\n",
       "      <td>none 1 0 0 1 1</td>\n",
       "      <td>000c9c05fd14_study</td>\n",
       "    </tr>\n",
       "  </tbody>\n",
       "</table>\n",
       "</div>"
      ],
      "text/plain": [
       "                 id_x  Negative for Pneumonia  Typical Appearance  \\\n",
       "0  00086460a852_study                       0                   1   \n",
       "1  000c9c05fd14_study                       0                   0   \n",
       "\n",
       "   Indeterminate Appearance  Atypical Appearance                id_y  \\\n",
       "0                         0                    0  65761e66de9f_image   \n",
       "1                         0                    1  51759b5579bc_image   \n",
       "\n",
       "                                               boxes  \\\n",
       "0  [{'x': 720.65215, 'y': 636.51048, 'width': 332...   \n",
       "1                                                NaN   \n",
       "\n",
       "                                               label    StudyInstanceUID  \n",
       "0  opacity 1 720.65215 636.51048 1052.84563 1284....  00086460a852_study  \n",
       "1                                     none 1 0 0 1 1  000c9c05fd14_study  "
      ]
     },
     "execution_count": 9,
     "metadata": {},
     "output_type": "execute_result"
    }
   ],
   "source": [
    "label_data.head(2)"
   ]
  },
  {
   "cell_type": "code",
   "execution_count": 10,
   "id": "6e2deb7e",
   "metadata": {},
   "outputs": [
    {
     "data": {
      "text/plain": [
       "0fd2db233deb_study    9\n",
       "a7335b2f9815_study    7\n",
       "8943d1d85097_study    6\n",
       "a0254bf8a96e_study    5\n",
       "a4e94133d95a_study    5\n",
       "                     ..\n",
       "0adfd8d6f010_study    1\n",
       "6703e8f113c4_study    1\n",
       "bc2b65a2e0e0_study    1\n",
       "eb30f3452fc6_study    1\n",
       "c05506118d89_study    1\n",
       "Name: id_x, Length: 6054, dtype: int64"
      ]
     },
     "execution_count": 10,
     "metadata": {},
     "output_type": "execute_result"
    }
   ],
   "source": [
    "label_data['id_x'].value_counts(ascending=False)"
   ]
  },
  {
   "cell_type": "code",
   "execution_count": 11,
   "id": "558d6de3",
   "metadata": {},
   "outputs": [
    {
     "data": {
      "text/html": [
       "<div>\n",
       "<style scoped>\n",
       "    .dataframe tbody tr th:only-of-type {\n",
       "        vertical-align: middle;\n",
       "    }\n",
       "\n",
       "    .dataframe tbody tr th {\n",
       "        vertical-align: top;\n",
       "    }\n",
       "\n",
       "    .dataframe thead th {\n",
       "        text-align: right;\n",
       "    }\n",
       "</style>\n",
       "<table border=\"1\" class=\"dataframe\">\n",
       "  <thead>\n",
       "    <tr style=\"text-align: right;\">\n",
       "      <th></th>\n",
       "      <th>id_x</th>\n",
       "      <th>Negative for Pneumonia</th>\n",
       "      <th>Typical Appearance</th>\n",
       "      <th>Indeterminate Appearance</th>\n",
       "      <th>Atypical Appearance</th>\n",
       "      <th>id_y</th>\n",
       "      <th>boxes</th>\n",
       "      <th>label</th>\n",
       "      <th>StudyInstanceUID</th>\n",
       "    </tr>\n",
       "  </thead>\n",
       "  <tbody>\n",
       "    <tr>\n",
       "      <th>375</th>\n",
       "      <td>0fd2db233deb_study</td>\n",
       "      <td>0</td>\n",
       "      <td>0</td>\n",
       "      <td>1</td>\n",
       "      <td>0</td>\n",
       "      <td>04cc2f7f4c4b_image</td>\n",
       "      <td>NaN</td>\n",
       "      <td>none 1 0 0 1 1</td>\n",
       "      <td>0fd2db233deb_study</td>\n",
       "    </tr>\n",
       "    <tr>\n",
       "      <th>376</th>\n",
       "      <td>0fd2db233deb_study</td>\n",
       "      <td>0</td>\n",
       "      <td>0</td>\n",
       "      <td>1</td>\n",
       "      <td>0</td>\n",
       "      <td>05c063f5cef5_image</td>\n",
       "      <td>NaN</td>\n",
       "      <td>none 1 0 0 1 1</td>\n",
       "      <td>0fd2db233deb_study</td>\n",
       "    </tr>\n",
       "    <tr>\n",
       "      <th>377</th>\n",
       "      <td>0fd2db233deb_study</td>\n",
       "      <td>0</td>\n",
       "      <td>0</td>\n",
       "      <td>1</td>\n",
       "      <td>0</td>\n",
       "      <td>156cb1f5c689_image</td>\n",
       "      <td>NaN</td>\n",
       "      <td>none 1 0 0 1 1</td>\n",
       "      <td>0fd2db233deb_study</td>\n",
       "    </tr>\n",
       "    <tr>\n",
       "      <th>378</th>\n",
       "      <td>0fd2db233deb_study</td>\n",
       "      <td>0</td>\n",
       "      <td>0</td>\n",
       "      <td>1</td>\n",
       "      <td>0</td>\n",
       "      <td>26f643772090_image</td>\n",
       "      <td>[{'x': 561.30269, 'y': 163.28797, 'width': 883...</td>\n",
       "      <td>opacity 1 561.30269 163.28797 1445.02377 1495....</td>\n",
       "      <td>0fd2db233deb_study</td>\n",
       "    </tr>\n",
       "    <tr>\n",
       "      <th>379</th>\n",
       "      <td>0fd2db233deb_study</td>\n",
       "      <td>0</td>\n",
       "      <td>0</td>\n",
       "      <td>1</td>\n",
       "      <td>0</td>\n",
       "      <td>4c414b793562_image</td>\n",
       "      <td>NaN</td>\n",
       "      <td>none 1 0 0 1 1</td>\n",
       "      <td>0fd2db233deb_study</td>\n",
       "    </tr>\n",
       "    <tr>\n",
       "      <th>380</th>\n",
       "      <td>0fd2db233deb_study</td>\n",
       "      <td>0</td>\n",
       "      <td>0</td>\n",
       "      <td>1</td>\n",
       "      <td>0</td>\n",
       "      <td>a5a364383f34_image</td>\n",
       "      <td>NaN</td>\n",
       "      <td>none 1 0 0 1 1</td>\n",
       "      <td>0fd2db233deb_study</td>\n",
       "    </tr>\n",
       "    <tr>\n",
       "      <th>381</th>\n",
       "      <td>0fd2db233deb_study</td>\n",
       "      <td>0</td>\n",
       "      <td>0</td>\n",
       "      <td>1</td>\n",
       "      <td>0</td>\n",
       "      <td>b121806162c3_image</td>\n",
       "      <td>NaN</td>\n",
       "      <td>none 1 0 0 1 1</td>\n",
       "      <td>0fd2db233deb_study</td>\n",
       "    </tr>\n",
       "    <tr>\n",
       "      <th>382</th>\n",
       "      <td>0fd2db233deb_study</td>\n",
       "      <td>0</td>\n",
       "      <td>0</td>\n",
       "      <td>1</td>\n",
       "      <td>0</td>\n",
       "      <td>bee62c601ae9_image</td>\n",
       "      <td>NaN</td>\n",
       "      <td>none 1 0 0 1 1</td>\n",
       "      <td>0fd2db233deb_study</td>\n",
       "    </tr>\n",
       "    <tr>\n",
       "      <th>383</th>\n",
       "      <td>0fd2db233deb_study</td>\n",
       "      <td>0</td>\n",
       "      <td>0</td>\n",
       "      <td>1</td>\n",
       "      <td>0</td>\n",
       "      <td>c6e92e59a0ae_image</td>\n",
       "      <td>NaN</td>\n",
       "      <td>none 1 0 0 1 1</td>\n",
       "      <td>0fd2db233deb_study</td>\n",
       "    </tr>\n",
       "  </tbody>\n",
       "</table>\n",
       "</div>"
      ],
      "text/plain": [
       "                   id_x  Negative for Pneumonia  Typical Appearance  \\\n",
       "375  0fd2db233deb_study                       0                   0   \n",
       "376  0fd2db233deb_study                       0                   0   \n",
       "377  0fd2db233deb_study                       0                   0   \n",
       "378  0fd2db233deb_study                       0                   0   \n",
       "379  0fd2db233deb_study                       0                   0   \n",
       "380  0fd2db233deb_study                       0                   0   \n",
       "381  0fd2db233deb_study                       0                   0   \n",
       "382  0fd2db233deb_study                       0                   0   \n",
       "383  0fd2db233deb_study                       0                   0   \n",
       "\n",
       "     Indeterminate Appearance  Atypical Appearance                id_y  \\\n",
       "375                         1                    0  04cc2f7f4c4b_image   \n",
       "376                         1                    0  05c063f5cef5_image   \n",
       "377                         1                    0  156cb1f5c689_image   \n",
       "378                         1                    0  26f643772090_image   \n",
       "379                         1                    0  4c414b793562_image   \n",
       "380                         1                    0  a5a364383f34_image   \n",
       "381                         1                    0  b121806162c3_image   \n",
       "382                         1                    0  bee62c601ae9_image   \n",
       "383                         1                    0  c6e92e59a0ae_image   \n",
       "\n",
       "                                                 boxes  \\\n",
       "375                                                NaN   \n",
       "376                                                NaN   \n",
       "377                                                NaN   \n",
       "378  [{'x': 561.30269, 'y': 163.28797, 'width': 883...   \n",
       "379                                                NaN   \n",
       "380                                                NaN   \n",
       "381                                                NaN   \n",
       "382                                                NaN   \n",
       "383                                                NaN   \n",
       "\n",
       "                                                 label    StudyInstanceUID  \n",
       "375                                     none 1 0 0 1 1  0fd2db233deb_study  \n",
       "376                                     none 1 0 0 1 1  0fd2db233deb_study  \n",
       "377                                     none 1 0 0 1 1  0fd2db233deb_study  \n",
       "378  opacity 1 561.30269 163.28797 1445.02377 1495....  0fd2db233deb_study  \n",
       "379                                     none 1 0 0 1 1  0fd2db233deb_study  \n",
       "380                                     none 1 0 0 1 1  0fd2db233deb_study  \n",
       "381                                     none 1 0 0 1 1  0fd2db233deb_study  \n",
       "382                                     none 1 0 0 1 1  0fd2db233deb_study  \n",
       "383                                     none 1 0 0 1 1  0fd2db233deb_study  "
      ]
     },
     "execution_count": 11,
     "metadata": {},
     "output_type": "execute_result"
    }
   ],
   "source": [
    "label_data[label_data['id_x']=='0fd2db233deb_study']"
   ]
  },
  {
   "cell_type": "code",
   "execution_count": 12,
   "id": "30f8fc69",
   "metadata": {},
   "outputs": [
    {
     "data": {
      "text/html": [
       "<div>\n",
       "<style scoped>\n",
       "    .dataframe tbody tr th:only-of-type {\n",
       "        vertical-align: middle;\n",
       "    }\n",
       "\n",
       "    .dataframe tbody tr th {\n",
       "        vertical-align: top;\n",
       "    }\n",
       "\n",
       "    .dataframe thead th {\n",
       "        text-align: right;\n",
       "    }\n",
       "</style>\n",
       "<table border=\"1\" class=\"dataframe\">\n",
       "  <thead>\n",
       "    <tr style=\"text-align: right;\">\n",
       "      <th></th>\n",
       "      <th>id_x</th>\n",
       "      <th>Negative for Pneumonia</th>\n",
       "      <th>Typical Appearance</th>\n",
       "      <th>Indeterminate Appearance</th>\n",
       "      <th>Atypical Appearance</th>\n",
       "      <th>id_y</th>\n",
       "      <th>boxes</th>\n",
       "      <th>label</th>\n",
       "      <th>StudyInstanceUID</th>\n",
       "    </tr>\n",
       "  </thead>\n",
       "  <tbody>\n",
       "    <tr>\n",
       "      <th>375</th>\n",
       "      <td>0fd2db233deb_study</td>\n",
       "      <td>0</td>\n",
       "      <td>0</td>\n",
       "      <td>1</td>\n",
       "      <td>0</td>\n",
       "      <td>04cc2f7f4c4b_image</td>\n",
       "      <td>NaN</td>\n",
       "      <td>none 1 0 0 1 1</td>\n",
       "      <td>0fd2db233deb_study</td>\n",
       "    </tr>\n",
       "  </tbody>\n",
       "</table>\n",
       "</div>"
      ],
      "text/plain": [
       "                   id_x  Negative for Pneumonia  Typical Appearance  \\\n",
       "375  0fd2db233deb_study                       0                   0   \n",
       "\n",
       "     Indeterminate Appearance  Atypical Appearance                id_y boxes  \\\n",
       "375                         1                    0  04cc2f7f4c4b_image   NaN   \n",
       "\n",
       "              label    StudyInstanceUID  \n",
       "375  none 1 0 0 1 1  0fd2db233deb_study  "
      ]
     },
     "execution_count": 12,
     "metadata": {},
     "output_type": "execute_result"
    }
   ],
   "source": [
    "label_data[label_data['id_y']=='04cc2f7f4c4b_image']"
   ]
  },
  {
   "cell_type": "code",
   "execution_count": 13,
   "id": "a4ca9b2b",
   "metadata": {},
   "outputs": [
    {
     "data": {
      "text/plain": [
       "796c8b8701bf_image    1\n",
       "7e73965d19a5_image    1\n",
       "3b9431421ee9_image    1\n",
       "795ceeb25970_image    1\n",
       "089bd77c8c10_image    1\n",
       "                     ..\n",
       "4aac2ad7b8fa_image    1\n",
       "c80d2df370e8_image    1\n",
       "de32dd96114c_image    1\n",
       "ecc2572103d7_image    1\n",
       "78148afc0575_image    1\n",
       "Name: id_y, Length: 6334, dtype: int64"
      ]
     },
     "execution_count": 13,
     "metadata": {},
     "output_type": "execute_result"
    }
   ],
   "source": [
    "label_data.id_y.value_counts(ascending=False)"
   ]
  },
  {
   "cell_type": "code",
   "execution_count": 14,
   "id": "612ebb29",
   "metadata": {},
   "outputs": [],
   "source": [
    "label_data.drop_duplicates(subset=['id_x'],inplace=True)"
   ]
  },
  {
   "cell_type": "code",
   "execution_count": 15,
   "id": "1236201d",
   "metadata": {},
   "outputs": [
    {
     "data": {
      "text/plain": [
       "(6054, 9)"
      ]
     },
     "execution_count": 15,
     "metadata": {},
     "output_type": "execute_result"
    }
   ],
   "source": [
    "label_data.shape"
   ]
  },
  {
   "cell_type": "code",
   "execution_count": 16,
   "id": "30141c65",
   "metadata": {},
   "outputs": [
    {
     "data": {
      "text/html": [
       "<div>\n",
       "<style scoped>\n",
       "    .dataframe tbody tr th:only-of-type {\n",
       "        vertical-align: middle;\n",
       "    }\n",
       "\n",
       "    .dataframe tbody tr th {\n",
       "        vertical-align: top;\n",
       "    }\n",
       "\n",
       "    .dataframe thead th {\n",
       "        text-align: right;\n",
       "    }\n",
       "</style>\n",
       "<table border=\"1\" class=\"dataframe\">\n",
       "  <thead>\n",
       "    <tr style=\"text-align: right;\">\n",
       "      <th></th>\n",
       "      <th>id_x</th>\n",
       "      <th>Negative for Pneumonia</th>\n",
       "      <th>Typical Appearance</th>\n",
       "      <th>Indeterminate Appearance</th>\n",
       "      <th>Atypical Appearance</th>\n",
       "      <th>id_y</th>\n",
       "      <th>boxes</th>\n",
       "      <th>label</th>\n",
       "      <th>StudyInstanceUID</th>\n",
       "    </tr>\n",
       "  </thead>\n",
       "  <tbody>\n",
       "    <tr>\n",
       "      <th>0</th>\n",
       "      <td>00086460a852_study</td>\n",
       "      <td>0</td>\n",
       "      <td>1</td>\n",
       "      <td>0</td>\n",
       "      <td>0</td>\n",
       "      <td>65761e66de9f_image</td>\n",
       "      <td>[{'x': 720.65215, 'y': 636.51048, 'width': 332...</td>\n",
       "      <td>opacity 1 720.65215 636.51048 1052.84563 1284....</td>\n",
       "      <td>00086460a852_study</td>\n",
       "    </tr>\n",
       "    <tr>\n",
       "      <th>1</th>\n",
       "      <td>000c9c05fd14_study</td>\n",
       "      <td>0</td>\n",
       "      <td>0</td>\n",
       "      <td>0</td>\n",
       "      <td>1</td>\n",
       "      <td>51759b5579bc_image</td>\n",
       "      <td>NaN</td>\n",
       "      <td>none 1 0 0 1 1</td>\n",
       "      <td>000c9c05fd14_study</td>\n",
       "    </tr>\n",
       "  </tbody>\n",
       "</table>\n",
       "</div>"
      ],
      "text/plain": [
       "                 id_x  Negative for Pneumonia  Typical Appearance  \\\n",
       "0  00086460a852_study                       0                   1   \n",
       "1  000c9c05fd14_study                       0                   0   \n",
       "\n",
       "   Indeterminate Appearance  Atypical Appearance                id_y  \\\n",
       "0                         0                    0  65761e66de9f_image   \n",
       "1                         0                    1  51759b5579bc_image   \n",
       "\n",
       "                                               boxes  \\\n",
       "0  [{'x': 720.65215, 'y': 636.51048, 'width': 332...   \n",
       "1                                                NaN   \n",
       "\n",
       "                                               label    StudyInstanceUID  \n",
       "0  opacity 1 720.65215 636.51048 1052.84563 1284....  00086460a852_study  \n",
       "1                                     none 1 0 0 1 1  000c9c05fd14_study  "
      ]
     },
     "execution_count": 16,
     "metadata": {},
     "output_type": "execute_result"
    }
   ],
   "source": [
    "label_data.head(2)"
   ]
  },
  {
   "cell_type": "code",
   "execution_count": 17,
   "id": "d8b598bf",
   "metadata": {},
   "outputs": [
    {
     "data": {
      "text/plain": [
       "Index(['id_x', 'Negative for Pneumonia', 'Typical Appearance',\n",
       "       'Indeterminate Appearance', 'Atypical Appearance', 'id_y', 'boxes',\n",
       "       'label', 'StudyInstanceUID'],\n",
       "      dtype='object')"
      ]
     },
     "execution_count": 17,
     "metadata": {},
     "output_type": "execute_result"
    }
   ],
   "source": [
    "label_data.columns"
   ]
  },
  {
   "cell_type": "code",
   "execution_count": 18,
   "id": "31884742",
   "metadata": {},
   "outputs": [],
   "source": [
    "for i in ['Negative for Pneumonia', 'Typical Appearance','Indeterminate Appearance', 'Atypical Appearance']:\n",
    "    label_data[i] = label_data[i].replace(1,i) "
   ]
  },
  {
   "cell_type": "code",
   "execution_count": 19,
   "id": "7d5380a3",
   "metadata": {},
   "outputs": [],
   "source": [
    "label_data['target'] = label_data['Negative for Pneumonia'].astype('str') + label_data['Atypical Appearance'].astype('str') + \\\n",
    "                        label_data['Typical Appearance'].astype('str') + label_data['Indeterminate Appearance'].astype('str')"
   ]
  },
  {
   "cell_type": "code",
   "execution_count": 20,
   "id": "46ab306d",
   "metadata": {},
   "outputs": [],
   "source": [
    "label_data['target'] = label_data['target'].apply(lambda x: re.sub('0','',x))"
   ]
  },
  {
   "cell_type": "code",
   "execution_count": 21,
   "id": "cbfcfc49",
   "metadata": {},
   "outputs": [
    {
     "data": {
      "text/plain": [
       "Typical Appearance          2855\n",
       "Negative for Pneumonia      1676\n",
       "Indeterminate Appearance    1049\n",
       "Atypical Appearance          474\n",
       "Name: target, dtype: int64"
      ]
     },
     "execution_count": 21,
     "metadata": {},
     "output_type": "execute_result"
    }
   ],
   "source": [
    "label_data['target'].value_counts()"
   ]
  },
  {
   "cell_type": "code",
   "execution_count": 22,
   "id": "2909e795",
   "metadata": {},
   "outputs": [
    {
     "data": {
      "text/html": [
       "<div>\n",
       "<style scoped>\n",
       "    .dataframe tbody tr th:only-of-type {\n",
       "        vertical-align: middle;\n",
       "    }\n",
       "\n",
       "    .dataframe tbody tr th {\n",
       "        vertical-align: top;\n",
       "    }\n",
       "\n",
       "    .dataframe thead th {\n",
       "        text-align: right;\n",
       "    }\n",
       "</style>\n",
       "<table border=\"1\" class=\"dataframe\">\n",
       "  <thead>\n",
       "    <tr style=\"text-align: right;\">\n",
       "      <th></th>\n",
       "      <th>id_x</th>\n",
       "      <th>Negative for Pneumonia</th>\n",
       "      <th>Typical Appearance</th>\n",
       "      <th>Indeterminate Appearance</th>\n",
       "      <th>Atypical Appearance</th>\n",
       "      <th>id_y</th>\n",
       "      <th>boxes</th>\n",
       "      <th>label</th>\n",
       "      <th>StudyInstanceUID</th>\n",
       "      <th>target</th>\n",
       "    </tr>\n",
       "  </thead>\n",
       "  <tbody>\n",
       "    <tr>\n",
       "      <th>1020</th>\n",
       "      <td>29b7fce85c4c_study</td>\n",
       "      <td>0</td>\n",
       "      <td>Typical Appearance</td>\n",
       "      <td>0</td>\n",
       "      <td>0</td>\n",
       "      <td>ab55abb953d1_image</td>\n",
       "      <td>NaN</td>\n",
       "      <td>none 1 0 0 1 1</td>\n",
       "      <td>29b7fce85c4c_study</td>\n",
       "      <td>Typical Appearance</td>\n",
       "    </tr>\n",
       "  </tbody>\n",
       "</table>\n",
       "</div>"
      ],
      "text/plain": [
       "                    id_x Negative for Pneumonia  Typical Appearance  \\\n",
       "1020  29b7fce85c4c_study                      0  Typical Appearance   \n",
       "\n",
       "     Indeterminate Appearance Atypical Appearance                id_y boxes  \\\n",
       "1020                        0                   0  ab55abb953d1_image   NaN   \n",
       "\n",
       "               label    StudyInstanceUID              target  \n",
       "1020  none 1 0 0 1 1  29b7fce85c4c_study  Typical Appearance  "
      ]
     },
     "execution_count": 22,
     "metadata": {},
     "output_type": "execute_result"
    }
   ],
   "source": [
    "label_data.sample()"
   ]
  },
  {
   "cell_type": "code",
   "execution_count": 23,
   "id": "611bbb21",
   "metadata": {},
   "outputs": [],
   "source": [
    "label_data['id_y'] = label_data['id_y'].apply(lambda x: re.sub('_image','.jpg',x))"
   ]
  },
  {
   "cell_type": "code",
   "execution_count": 24,
   "id": "b1cab7fb",
   "metadata": {},
   "outputs": [],
   "source": [
    "label_data['path'] = 'gs://qwiklabs-gcp-03-365bf9c0599c-kaggle/train/' + label_data['id_y'].astype('str')"
   ]
  },
  {
   "cell_type": "code",
   "execution_count": 25,
   "id": "d83e8f26",
   "metadata": {},
   "outputs": [
    {
     "data": {
      "text/html": [
       "<div>\n",
       "<style scoped>\n",
       "    .dataframe tbody tr th:only-of-type {\n",
       "        vertical-align: middle;\n",
       "    }\n",
       "\n",
       "    .dataframe tbody tr th {\n",
       "        vertical-align: top;\n",
       "    }\n",
       "\n",
       "    .dataframe thead th {\n",
       "        text-align: right;\n",
       "    }\n",
       "</style>\n",
       "<table border=\"1\" class=\"dataframe\">\n",
       "  <thead>\n",
       "    <tr style=\"text-align: right;\">\n",
       "      <th></th>\n",
       "      <th>id_x</th>\n",
       "      <th>Negative for Pneumonia</th>\n",
       "      <th>Typical Appearance</th>\n",
       "      <th>Indeterminate Appearance</th>\n",
       "      <th>Atypical Appearance</th>\n",
       "      <th>id_y</th>\n",
       "      <th>boxes</th>\n",
       "      <th>label</th>\n",
       "      <th>StudyInstanceUID</th>\n",
       "      <th>target</th>\n",
       "      <th>path</th>\n",
       "    </tr>\n",
       "  </thead>\n",
       "  <tbody>\n",
       "    <tr>\n",
       "      <th>0</th>\n",
       "      <td>00086460a852_study</td>\n",
       "      <td>0</td>\n",
       "      <td>Typical Appearance</td>\n",
       "      <td>0</td>\n",
       "      <td>0</td>\n",
       "      <td>65761e66de9f.jpg</td>\n",
       "      <td>[{'x': 720.65215, 'y': 636.51048, 'width': 332...</td>\n",
       "      <td>opacity 1 720.65215 636.51048 1052.84563 1284....</td>\n",
       "      <td>00086460a852_study</td>\n",
       "      <td>Typical Appearance</td>\n",
       "      <td>gs://qwiklabs-gcp-03-365bf9c0599c-kaggle/train...</td>\n",
       "    </tr>\n",
       "    <tr>\n",
       "      <th>1</th>\n",
       "      <td>000c9c05fd14_study</td>\n",
       "      <td>0</td>\n",
       "      <td>0</td>\n",
       "      <td>0</td>\n",
       "      <td>Atypical Appearance</td>\n",
       "      <td>51759b5579bc.jpg</td>\n",
       "      <td>NaN</td>\n",
       "      <td>none 1 0 0 1 1</td>\n",
       "      <td>000c9c05fd14_study</td>\n",
       "      <td>Atypical Appearance</td>\n",
       "      <td>gs://qwiklabs-gcp-03-365bf9c0599c-kaggle/train...</td>\n",
       "    </tr>\n",
       "  </tbody>\n",
       "</table>\n",
       "</div>"
      ],
      "text/plain": [
       "                 id_x Negative for Pneumonia  Typical Appearance  \\\n",
       "0  00086460a852_study                      0  Typical Appearance   \n",
       "1  000c9c05fd14_study                      0                   0   \n",
       "\n",
       "  Indeterminate Appearance  Atypical Appearance              id_y  \\\n",
       "0                        0                    0  65761e66de9f.jpg   \n",
       "1                        0  Atypical Appearance  51759b5579bc.jpg   \n",
       "\n",
       "                                               boxes  \\\n",
       "0  [{'x': 720.65215, 'y': 636.51048, 'width': 332...   \n",
       "1                                                NaN   \n",
       "\n",
       "                                               label    StudyInstanceUID  \\\n",
       "0  opacity 1 720.65215 636.51048 1052.84563 1284....  00086460a852_study   \n",
       "1                                     none 1 0 0 1 1  000c9c05fd14_study   \n",
       "\n",
       "                target                                               path  \n",
       "0   Typical Appearance  gs://qwiklabs-gcp-03-365bf9c0599c-kaggle/train...  \n",
       "1  Atypical Appearance  gs://qwiklabs-gcp-03-365bf9c0599c-kaggle/train...  "
      ]
     },
     "execution_count": 25,
     "metadata": {},
     "output_type": "execute_result"
    }
   ],
   "source": [
    "label_data.head(2)"
   ]
  },
  {
   "cell_type": "code",
   "execution_count": 31,
   "id": "a7182c35",
   "metadata": {},
   "outputs": [
    {
     "data": {
      "text/plain": [
       "Typical_Appearance          2855\n",
       "Negative_for_Pneumonia      1676\n",
       "Indeterminate_Appearance    1049\n",
       "Atypical_Appearance          474\n",
       "Name: target, dtype: int64"
      ]
     },
     "execution_count": 31,
     "metadata": {},
     "output_type": "execute_result"
    }
   ],
   "source": [
    "label_data.target.value_counts()"
   ]
  },
  {
   "cell_type": "code",
   "execution_count": 26,
   "id": "0c762336",
   "metadata": {},
   "outputs": [],
   "source": [
    "label_data['target'] = label_data['target'].apply(lambda x: re.sub(' ','_',x))"
   ]
  },
  {
   "cell_type": "code",
   "execution_count": 27,
   "id": "3d5c40b1",
   "metadata": {},
   "outputs": [],
   "source": [
    "label_data[['path','target']].to_csv('./kaggle_data/image_classification.csv',index=False,header=False)"
   ]
  },
  {
   "cell_type": "markdown",
   "id": "49f32163",
   "metadata": {},
   "source": [
    "#### transferring data to storage"
   ]
  },
  {
   "cell_type": "code",
   "execution_count": 30,
   "id": "bd38f8ca",
   "metadata": {},
   "outputs": [
    {
     "name": "stdout",
     "output_type": "stream",
     "text": [
      "Copying file:///home/jupyter/kaggle_data/image_classification.csv [Content-Type=text/csv]...\n",
      "/ [1/1 files][503.9 KiB/503.9 KiB] 100% Done                                    \n",
      "Operation completed over 1 objects/503.9 KiB.                                    \n"
     ]
    }
   ],
   "source": [
    "!gsutil -m cp -r /home/jupyter/kaggle_data/image_classification.csv gs://qwiklabs-gcp-03-365bf9c0599c-kaggle/"
   ]
  },
  {
   "cell_type": "code",
   "execution_count": null,
   "id": "66b94128",
   "metadata": {},
   "outputs": [],
   "source": []
  }
 ],
 "metadata": {
  "environment": {
   "name": "tf2-gpu.2-3.m71",
   "type": "gcloud",
   "uri": "gcr.io/deeplearning-platform-release/tf2-gpu.2-3:m71"
  },
  "kernelspec": {
   "display_name": "Python 3",
   "language": "python",
   "name": "python3"
  },
  "language_info": {
   "codemirror_mode": {
    "name": "ipython",
    "version": 3
   },
   "file_extension": ".py",
   "mimetype": "text/x-python",
   "name": "python",
   "nbconvert_exporter": "python",
   "pygments_lexer": "ipython3",
   "version": "3.7.10"
  }
 },
 "nbformat": 4,
 "nbformat_minor": 5
}
