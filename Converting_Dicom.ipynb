{
 "cells": [
  {
   "cell_type": "code",
   "execution_count": 2,
   "id": "39ee7656",
   "metadata": {},
   "outputs": [
    {
     "name": "stdout",
     "output_type": "stream",
     "text": [
      "Requirement already satisfied: pydicom in /opt/conda/lib/python3.7/site-packages (2.1.2)\n",
      "Requirement already satisfied: opencv-python in /opt/conda/lib/python3.7/site-packages (4.5.2.54)\n",
      "Requirement already satisfied: numpy>=1.14.5 in /opt/conda/lib/python3.7/site-packages (from opencv-python) (1.19.5)\n",
      "Requirement already satisfied: pylibjpeg in /opt/conda/lib/python3.7/site-packages (1.3.0)\n",
      "Requirement already satisfied: pylibjpeg-libjpeg in /opt/conda/lib/python3.7/site-packages (1.2.0)\n",
      "Requirement already satisfied: pydicom in /opt/conda/lib/python3.7/site-packages (2.1.2)\n",
      "Requirement already satisfied: pylibjpeg-rle in /opt/conda/lib/python3.7/site-packages (from pylibjpeg) (1.1.0)\n",
      "Requirement already satisfied: pylibjpeg-openjpeg in /opt/conda/lib/python3.7/site-packages (from pylibjpeg) (1.1.1)\n",
      "Requirement already satisfied: numpy in /opt/conda/lib/python3.7/site-packages (from pylibjpeg) (1.19.5)\n",
      "Requirement already satisfied: python-gdcm in /opt/conda/lib/python3.7/site-packages (3.0.9.0)\n"
     ]
    }
   ],
   "source": [
    "# # Libraries required to be downloaded\n",
    "\n",
    "# !pip install pydicom\n",
    "# !pip install opencv-python\n",
    "# !pip install pylibjpeg pylibjpeg-libjpeg pydicom\n",
    "# !pip install python-gdcm"
   ]
  },
  {
   "cell_type": "code",
   "execution_count": 1,
   "id": "e6832855",
   "metadata": {},
   "outputs": [],
   "source": [
    "import pydicom as dicom\n",
    "import matplotlib.pyplot as plt\n",
    "import os\n",
    "import cv2\n",
    "import numpy as np\n",
    "import PIL # optional\n",
    "import pandas as pd\n",
    "import csv\n",
    "import pylibjpeg\n",
    "import gdcm"
   ]
  },
  {
   "cell_type": "code",
   "execution_count": 2,
   "id": "fd0f1051",
   "metadata": {},
   "outputs": [],
   "source": [
    "# make it True if you want in PNG format\n",
    "PNG = False"
   ]
  },
  {
   "cell_type": "markdown",
   "id": "933f0f7d",
   "metadata": {},
   "source": [
    "#### Converting train data files to jpg format"
   ]
  },
  {
   "cell_type": "code",
   "execution_count": 2,
   "id": "3221a037",
   "metadata": {},
   "outputs": [],
   "source": [
    "# Specify the .dcm folder path\n",
    "folder_path_train = \"/home/jupyter/kaggle/train\""
   ]
  },
  {
   "cell_type": "code",
   "execution_count": 3,
   "id": "aa591fef",
   "metadata": {},
   "outputs": [],
   "source": [
    "# Specify the output jpg/png folder path\n",
    "jpg_folder_path_train = \"/home/jupyter/kaggle_data/train\"\n",
    "images_path_train = os.listdir(folder_path)"
   ]
  },
  {
   "cell_type": "code",
   "execution_count": 10,
   "id": "2543467d",
   "metadata": {},
   "outputs": [
    {
     "name": "stdout",
     "output_type": "stream",
     "text": [
      "0 image converted\n"
     ]
    },
    {
     "name": "stderr",
     "output_type": "stream",
     "text": [
      "/opt/conda/lib/python3.7/site-packages/pydicom/pixel_data_handlers/numpy_handler.py:341: UserWarning: The length of the pixel data in the dataset (13262360 bytes) indicates it contains excess padding. 216296 bytes will be removed from the end of the data\n",
      "  warnings.warn(msg)\n"
     ]
    },
    {
     "name": "stdout",
     "output_type": "stream",
     "text": [
      "1000 image converted\n",
      "2000 image converted\n",
      "3000 image converted\n",
      "4000 image converted\n",
      "5000 image converted\n",
      "6000 image converted\n"
     ]
    }
   ],
   "source": [
    "for n, image in enumerate(images_path_train):\n",
    "#     print(image)\n",
    "    for i in os.listdir(os.path.join(folder_path_train, image)):\n",
    "        for image_file in os.listdir(os.path.join(folder_path_train, image,i)):\n",
    "            ds = dicom.dcmread(os.path.join(folder_path_train, image,i,image_file))\n",
    "            ds.PhotometricInterpretation = 'YBR_FULL'\n",
    "            pixel_array_numpy = ds.pixel_array\n",
    "            img_2d = pixel_array_numpy.astype(float)\n",
    "            img_2d_scaled = (np.maximum(img_2d,0) / img_2d.max()) * 255.0\n",
    "            img_2d_scaled = np.uint8(img_2d_scaled)\n",
    "#             plt.imshow(img_2d_scaled, cmap='gray', vmin=0, vmax=255)\n",
    "#             plt.show()\n",
    "            if PNG == False:\n",
    "                image_file = image_file.replace('.dcm', '.jpg')\n",
    "            else:\n",
    "                image_file = image_file.replace('.dcm', '.png')\n",
    "    cv2.imwrite(os.path.join(jpg_folder_path_train, image_file), img_2d_scaled)\n",
    "    if n % 1000 == 0:\n",
    "        print('{} image converted'.format(n))\n"
   ]
  },
  {
   "cell_type": "markdown",
   "id": "4e9491d0",
   "metadata": {},
   "source": [
    "#### Converting test data files to jpg format"
   ]
  },
  {
   "cell_type": "code",
   "execution_count": 11,
   "id": "e23942ed",
   "metadata": {},
   "outputs": [],
   "source": [
    "# Specify the .dcm folder path\n",
    "folder_path_test = \"/home/jupyter/kaggle/test\""
   ]
  },
  {
   "cell_type": "code",
   "execution_count": 12,
   "id": "5aee679c",
   "metadata": {},
   "outputs": [],
   "source": [
    "# Specify the output jpg/png folder path\n",
    "jpg_folder_path_test = \"/home/jupyter/kaggle_data/test\"\n",
    "images_path_test = os.listdir(folder_path_test)"
   ]
  },
  {
   "cell_type": "code",
   "execution_count": 14,
   "id": "1b9ff5d4",
   "metadata": {},
   "outputs": [
    {
     "name": "stdout",
     "output_type": "stream",
     "text": [
      "0 image converted\n",
      "1000 image converted\n"
     ]
    }
   ],
   "source": [
    "for n, image in enumerate(images_path_test):\n",
    "#     print(image)\n",
    "    for i in os.listdir(os.path.join(folder_path_test, image)):\n",
    "        for image_file in os.listdir(os.path.join(folder_path_test, image,i)):\n",
    "            ds = dicom.dcmread(os.path.join(folder_path_test, image,i,image_file))\n",
    "            ds.PhotometricInterpretation = 'YBR_FULL'\n",
    "            pixel_array_numpy = ds.pixel_array\n",
    "            img_2d = pixel_array_numpy.astype(float)\n",
    "            img_2d_scaled = (np.maximum(img_2d,0) / img_2d.max()) * 255.0\n",
    "            img_2d_scaled = np.uint8(img_2d_scaled)\n",
    "#             plt.imshow(img_2d_scaled, cmap='gray', vmin=0, vmax=255)\n",
    "#             plt.show()\n",
    "            if PNG == False:\n",
    "                image_file = image_file.replace('.dcm', '.jpg')\n",
    "            else:\n",
    "                image_file = image_file.replace('.dcm', '.png')\n",
    "    cv2.imwrite(os.path.join(jpg_folder_path_test, image_file), img_2d_scaled)\n",
    "    if n % 1000 == 0:\n",
    "        print('{} image converted'.format(n))\n"
   ]
  },
  {
   "cell_type": "code",
   "execution_count": null,
   "id": "73bdae05",
   "metadata": {},
   "outputs": [],
   "source": []
  }
 ],
 "metadata": {
  "environment": {
   "name": "tf2-gpu.2-3.m71",
   "type": "gcloud",
   "uri": "gcr.io/deeplearning-platform-release/tf2-gpu.2-3:m71"
  },
  "kernelspec": {
   "display_name": "Python 3",
   "language": "python",
   "name": "python3"
  },
  "language_info": {
   "codemirror_mode": {
    "name": "ipython",
    "version": 3
   },
   "file_extension": ".py",
   "mimetype": "text/x-python",
   "name": "python",
   "nbconvert_exporter": "python",
   "pygments_lexer": "ipython3",
   "version": "3.7.10"
  }
 },
 "nbformat": 4,
 "nbformat_minor": 5
}
