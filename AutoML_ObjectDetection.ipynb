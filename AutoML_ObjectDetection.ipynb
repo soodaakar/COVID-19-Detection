{
 "cells": [
  {
   "cell_type": "code",
   "execution_count": 1,
   "id": "79303377",
   "metadata": {},
   "outputs": [],
   "source": [
    "import pandas as pd\n",
    "import numpy as np\n",
    "import re\n",
    "import matplotlib.pyplot as plt\n",
    "import os\n",
    "import numpy as np\n",
    "import tensorflow as tf\n",
    "import tensorflow_io as tfio\n",
    "import cv2"
   ]
  },
  {
   "cell_type": "code",
   "execution_count": 2,
   "id": "03a71146",
   "metadata": {},
   "outputs": [],
   "source": [
    "label_data = pd.read_csv('kaggle/train_study_level.csv')"
   ]
  },
  {
   "cell_type": "code",
   "execution_count": 3,
   "id": "73d34174",
   "metadata": {},
   "outputs": [
    {
     "data": {
      "text/plain": [
       "(6054, 5)"
      ]
     },
     "execution_count": 3,
     "metadata": {},
     "output_type": "execute_result"
    }
   ],
   "source": [
    "label_data.shape"
   ]
  },
  {
   "cell_type": "code",
   "execution_count": 4,
   "id": "5192d0f4",
   "metadata": {},
   "outputs": [],
   "source": [
    "label2 = pd.read_csv('kaggle/train_image_level.csv')"
   ]
  },
  {
   "cell_type": "code",
   "execution_count": 5,
   "id": "9c49bc5b",
   "metadata": {},
   "outputs": [
    {
     "data": {
      "text/plain": [
       "(6334, 4)"
      ]
     },
     "execution_count": 5,
     "metadata": {},
     "output_type": "execute_result"
    }
   ],
   "source": [
    "label2.shape"
   ]
  },
  {
   "cell_type": "code",
   "execution_count": 6,
   "id": "401d8342",
   "metadata": {},
   "outputs": [
    {
     "data": {
      "text/html": [
       "<div>\n",
       "<style scoped>\n",
       "    .dataframe tbody tr th:only-of-type {\n",
       "        vertical-align: middle;\n",
       "    }\n",
       "\n",
       "    .dataframe tbody tr th {\n",
       "        vertical-align: top;\n",
       "    }\n",
       "\n",
       "    .dataframe thead th {\n",
       "        text-align: right;\n",
       "    }\n",
       "</style>\n",
       "<table border=\"1\" class=\"dataframe\">\n",
       "  <thead>\n",
       "    <tr style=\"text-align: right;\">\n",
       "      <th></th>\n",
       "      <th>id</th>\n",
       "      <th>boxes</th>\n",
       "      <th>label</th>\n",
       "      <th>StudyInstanceUID</th>\n",
       "    </tr>\n",
       "  </thead>\n",
       "  <tbody>\n",
       "    <tr>\n",
       "      <th>0</th>\n",
       "      <td>000a312787f2_image</td>\n",
       "      <td>[{'x': 789.28836, 'y': 582.43035, 'width': 102...</td>\n",
       "      <td>opacity 1 789.28836 582.43035 1815.94498 2499....</td>\n",
       "      <td>5776db0cec75</td>\n",
       "    </tr>\n",
       "    <tr>\n",
       "      <th>1</th>\n",
       "      <td>000c3a3f293f_image</td>\n",
       "      <td>NaN</td>\n",
       "      <td>none 1 0 0 1 1</td>\n",
       "      <td>ff0879eb20ed</td>\n",
       "    </tr>\n",
       "  </tbody>\n",
       "</table>\n",
       "</div>"
      ],
      "text/plain": [
       "                   id                                              boxes  \\\n",
       "0  000a312787f2_image  [{'x': 789.28836, 'y': 582.43035, 'width': 102...   \n",
       "1  000c3a3f293f_image                                                NaN   \n",
       "\n",
       "                                               label StudyInstanceUID  \n",
       "0  opacity 1 789.28836 582.43035 1815.94498 2499....     5776db0cec75  \n",
       "1                                     none 1 0 0 1 1     ff0879eb20ed  "
      ]
     },
     "execution_count": 6,
     "metadata": {},
     "output_type": "execute_result"
    }
   ],
   "source": [
    "label2.head(2)"
   ]
  },
  {
   "cell_type": "code",
   "execution_count": 7,
   "id": "ede76979",
   "metadata": {},
   "outputs": [],
   "source": [
    "label2['StudyInstanceUID'] = label2['StudyInstanceUID'].apply(lambda x : x+'_study')"
   ]
  },
  {
   "cell_type": "code",
   "execution_count": 8,
   "id": "c0b4eaa0",
   "metadata": {},
   "outputs": [],
   "source": [
    "label_data = label_data.merge(label2,left_on='id',right_on='StudyInstanceUID',how='left')"
   ]
  },
  {
   "cell_type": "code",
   "execution_count": 9,
   "id": "c1eb5724",
   "metadata": {},
   "outputs": [
    {
     "data": {
      "text/html": [
       "<div>\n",
       "<style scoped>\n",
       "    .dataframe tbody tr th:only-of-type {\n",
       "        vertical-align: middle;\n",
       "    }\n",
       "\n",
       "    .dataframe tbody tr th {\n",
       "        vertical-align: top;\n",
       "    }\n",
       "\n",
       "    .dataframe thead th {\n",
       "        text-align: right;\n",
       "    }\n",
       "</style>\n",
       "<table border=\"1\" class=\"dataframe\">\n",
       "  <thead>\n",
       "    <tr style=\"text-align: right;\">\n",
       "      <th></th>\n",
       "      <th>id_x</th>\n",
       "      <th>Negative for Pneumonia</th>\n",
       "      <th>Typical Appearance</th>\n",
       "      <th>Indeterminate Appearance</th>\n",
       "      <th>Atypical Appearance</th>\n",
       "      <th>id_y</th>\n",
       "      <th>boxes</th>\n",
       "      <th>label</th>\n",
       "      <th>StudyInstanceUID</th>\n",
       "    </tr>\n",
       "  </thead>\n",
       "  <tbody>\n",
       "    <tr>\n",
       "      <th>0</th>\n",
       "      <td>00086460a852_study</td>\n",
       "      <td>0</td>\n",
       "      <td>1</td>\n",
       "      <td>0</td>\n",
       "      <td>0</td>\n",
       "      <td>65761e66de9f_image</td>\n",
       "      <td>[{'x': 720.65215, 'y': 636.51048, 'width': 332...</td>\n",
       "      <td>opacity 1 720.65215 636.51048 1052.84563 1284....</td>\n",
       "      <td>00086460a852_study</td>\n",
       "    </tr>\n",
       "    <tr>\n",
       "      <th>1</th>\n",
       "      <td>000c9c05fd14_study</td>\n",
       "      <td>0</td>\n",
       "      <td>0</td>\n",
       "      <td>0</td>\n",
       "      <td>1</td>\n",
       "      <td>51759b5579bc_image</td>\n",
       "      <td>NaN</td>\n",
       "      <td>none 1 0 0 1 1</td>\n",
       "      <td>000c9c05fd14_study</td>\n",
       "    </tr>\n",
       "  </tbody>\n",
       "</table>\n",
       "</div>"
      ],
      "text/plain": [
       "                 id_x  Negative for Pneumonia  Typical Appearance  \\\n",
       "0  00086460a852_study                       0                   1   \n",
       "1  000c9c05fd14_study                       0                   0   \n",
       "\n",
       "   Indeterminate Appearance  Atypical Appearance                id_y  \\\n",
       "0                         0                    0  65761e66de9f_image   \n",
       "1                         0                    1  51759b5579bc_image   \n",
       "\n",
       "                                               boxes  \\\n",
       "0  [{'x': 720.65215, 'y': 636.51048, 'width': 332...   \n",
       "1                                                NaN   \n",
       "\n",
       "                                               label    StudyInstanceUID  \n",
       "0  opacity 1 720.65215 636.51048 1052.84563 1284....  00086460a852_study  \n",
       "1                                     none 1 0 0 1 1  000c9c05fd14_study  "
      ]
     },
     "execution_count": 9,
     "metadata": {},
     "output_type": "execute_result"
    }
   ],
   "source": [
    "label_data.head(2)"
   ]
  },
  {
   "cell_type": "code",
   "execution_count": 10,
   "id": "ced2dba6",
   "metadata": {},
   "outputs": [
    {
     "data": {
      "text/plain": [
       "0fd2db233deb_study    9\n",
       "a7335b2f9815_study    7\n",
       "8943d1d85097_study    6\n",
       "a0254bf8a96e_study    5\n",
       "970c96c9fa5d_study    5\n",
       "                     ..\n",
       "1665788ce755_study    1\n",
       "e13f252bf83c_study    1\n",
       "2a8a246f1ebb_study    1\n",
       "2e8e6d58eccd_study    1\n",
       "3865c0d08f85_study    1\n",
       "Name: id_x, Length: 6054, dtype: int64"
      ]
     },
     "execution_count": 10,
     "metadata": {},
     "output_type": "execute_result"
    }
   ],
   "source": [
    "label_data['id_x'].value_counts(ascending=False)"
   ]
  },
  {
   "cell_type": "code",
   "execution_count": 11,
   "id": "e2918210",
   "metadata": {},
   "outputs": [
    {
     "data": {
      "text/html": [
       "<div>\n",
       "<style scoped>\n",
       "    .dataframe tbody tr th:only-of-type {\n",
       "        vertical-align: middle;\n",
       "    }\n",
       "\n",
       "    .dataframe tbody tr th {\n",
       "        vertical-align: top;\n",
       "    }\n",
       "\n",
       "    .dataframe thead th {\n",
       "        text-align: right;\n",
       "    }\n",
       "</style>\n",
       "<table border=\"1\" class=\"dataframe\">\n",
       "  <thead>\n",
       "    <tr style=\"text-align: right;\">\n",
       "      <th></th>\n",
       "      <th>id_x</th>\n",
       "      <th>Negative for Pneumonia</th>\n",
       "      <th>Typical Appearance</th>\n",
       "      <th>Indeterminate Appearance</th>\n",
       "      <th>Atypical Appearance</th>\n",
       "      <th>id_y</th>\n",
       "      <th>boxes</th>\n",
       "      <th>label</th>\n",
       "      <th>StudyInstanceUID</th>\n",
       "    </tr>\n",
       "  </thead>\n",
       "  <tbody>\n",
       "    <tr>\n",
       "      <th>375</th>\n",
       "      <td>0fd2db233deb_study</td>\n",
       "      <td>0</td>\n",
       "      <td>0</td>\n",
       "      <td>1</td>\n",
       "      <td>0</td>\n",
       "      <td>04cc2f7f4c4b_image</td>\n",
       "      <td>NaN</td>\n",
       "      <td>none 1 0 0 1 1</td>\n",
       "      <td>0fd2db233deb_study</td>\n",
       "    </tr>\n",
       "    <tr>\n",
       "      <th>376</th>\n",
       "      <td>0fd2db233deb_study</td>\n",
       "      <td>0</td>\n",
       "      <td>0</td>\n",
       "      <td>1</td>\n",
       "      <td>0</td>\n",
       "      <td>05c063f5cef5_image</td>\n",
       "      <td>NaN</td>\n",
       "      <td>none 1 0 0 1 1</td>\n",
       "      <td>0fd2db233deb_study</td>\n",
       "    </tr>\n",
       "    <tr>\n",
       "      <th>377</th>\n",
       "      <td>0fd2db233deb_study</td>\n",
       "      <td>0</td>\n",
       "      <td>0</td>\n",
       "      <td>1</td>\n",
       "      <td>0</td>\n",
       "      <td>156cb1f5c689_image</td>\n",
       "      <td>NaN</td>\n",
       "      <td>none 1 0 0 1 1</td>\n",
       "      <td>0fd2db233deb_study</td>\n",
       "    </tr>\n",
       "    <tr>\n",
       "      <th>378</th>\n",
       "      <td>0fd2db233deb_study</td>\n",
       "      <td>0</td>\n",
       "      <td>0</td>\n",
       "      <td>1</td>\n",
       "      <td>0</td>\n",
       "      <td>26f643772090_image</td>\n",
       "      <td>[{'x': 561.30269, 'y': 163.28797, 'width': 883...</td>\n",
       "      <td>opacity 1 561.30269 163.28797 1445.02377 1495....</td>\n",
       "      <td>0fd2db233deb_study</td>\n",
       "    </tr>\n",
       "    <tr>\n",
       "      <th>379</th>\n",
       "      <td>0fd2db233deb_study</td>\n",
       "      <td>0</td>\n",
       "      <td>0</td>\n",
       "      <td>1</td>\n",
       "      <td>0</td>\n",
       "      <td>4c414b793562_image</td>\n",
       "      <td>NaN</td>\n",
       "      <td>none 1 0 0 1 1</td>\n",
       "      <td>0fd2db233deb_study</td>\n",
       "    </tr>\n",
       "    <tr>\n",
       "      <th>380</th>\n",
       "      <td>0fd2db233deb_study</td>\n",
       "      <td>0</td>\n",
       "      <td>0</td>\n",
       "      <td>1</td>\n",
       "      <td>0</td>\n",
       "      <td>a5a364383f34_image</td>\n",
       "      <td>NaN</td>\n",
       "      <td>none 1 0 0 1 1</td>\n",
       "      <td>0fd2db233deb_study</td>\n",
       "    </tr>\n",
       "    <tr>\n",
       "      <th>381</th>\n",
       "      <td>0fd2db233deb_study</td>\n",
       "      <td>0</td>\n",
       "      <td>0</td>\n",
       "      <td>1</td>\n",
       "      <td>0</td>\n",
       "      <td>b121806162c3_image</td>\n",
       "      <td>NaN</td>\n",
       "      <td>none 1 0 0 1 1</td>\n",
       "      <td>0fd2db233deb_study</td>\n",
       "    </tr>\n",
       "    <tr>\n",
       "      <th>382</th>\n",
       "      <td>0fd2db233deb_study</td>\n",
       "      <td>0</td>\n",
       "      <td>0</td>\n",
       "      <td>1</td>\n",
       "      <td>0</td>\n",
       "      <td>bee62c601ae9_image</td>\n",
       "      <td>NaN</td>\n",
       "      <td>none 1 0 0 1 1</td>\n",
       "      <td>0fd2db233deb_study</td>\n",
       "    </tr>\n",
       "    <tr>\n",
       "      <th>383</th>\n",
       "      <td>0fd2db233deb_study</td>\n",
       "      <td>0</td>\n",
       "      <td>0</td>\n",
       "      <td>1</td>\n",
       "      <td>0</td>\n",
       "      <td>c6e92e59a0ae_image</td>\n",
       "      <td>NaN</td>\n",
       "      <td>none 1 0 0 1 1</td>\n",
       "      <td>0fd2db233deb_study</td>\n",
       "    </tr>\n",
       "  </tbody>\n",
       "</table>\n",
       "</div>"
      ],
      "text/plain": [
       "                   id_x  Negative for Pneumonia  Typical Appearance  \\\n",
       "375  0fd2db233deb_study                       0                   0   \n",
       "376  0fd2db233deb_study                       0                   0   \n",
       "377  0fd2db233deb_study                       0                   0   \n",
       "378  0fd2db233deb_study                       0                   0   \n",
       "379  0fd2db233deb_study                       0                   0   \n",
       "380  0fd2db233deb_study                       0                   0   \n",
       "381  0fd2db233deb_study                       0                   0   \n",
       "382  0fd2db233deb_study                       0                   0   \n",
       "383  0fd2db233deb_study                       0                   0   \n",
       "\n",
       "     Indeterminate Appearance  Atypical Appearance                id_y  \\\n",
       "375                         1                    0  04cc2f7f4c4b_image   \n",
       "376                         1                    0  05c063f5cef5_image   \n",
       "377                         1                    0  156cb1f5c689_image   \n",
       "378                         1                    0  26f643772090_image   \n",
       "379                         1                    0  4c414b793562_image   \n",
       "380                         1                    0  a5a364383f34_image   \n",
       "381                         1                    0  b121806162c3_image   \n",
       "382                         1                    0  bee62c601ae9_image   \n",
       "383                         1                    0  c6e92e59a0ae_image   \n",
       "\n",
       "                                                 boxes  \\\n",
       "375                                                NaN   \n",
       "376                                                NaN   \n",
       "377                                                NaN   \n",
       "378  [{'x': 561.30269, 'y': 163.28797, 'width': 883...   \n",
       "379                                                NaN   \n",
       "380                                                NaN   \n",
       "381                                                NaN   \n",
       "382                                                NaN   \n",
       "383                                                NaN   \n",
       "\n",
       "                                                 label    StudyInstanceUID  \n",
       "375                                     none 1 0 0 1 1  0fd2db233deb_study  \n",
       "376                                     none 1 0 0 1 1  0fd2db233deb_study  \n",
       "377                                     none 1 0 0 1 1  0fd2db233deb_study  \n",
       "378  opacity 1 561.30269 163.28797 1445.02377 1495....  0fd2db233deb_study  \n",
       "379                                     none 1 0 0 1 1  0fd2db233deb_study  \n",
       "380                                     none 1 0 0 1 1  0fd2db233deb_study  \n",
       "381                                     none 1 0 0 1 1  0fd2db233deb_study  \n",
       "382                                     none 1 0 0 1 1  0fd2db233deb_study  \n",
       "383                                     none 1 0 0 1 1  0fd2db233deb_study  "
      ]
     },
     "execution_count": 11,
     "metadata": {},
     "output_type": "execute_result"
    }
   ],
   "source": [
    "label_data[label_data['id_x']=='0fd2db233deb_study']"
   ]
  },
  {
   "cell_type": "code",
   "execution_count": 12,
   "id": "43a58195",
   "metadata": {},
   "outputs": [
    {
     "data": {
      "text/html": [
       "<div>\n",
       "<style scoped>\n",
       "    .dataframe tbody tr th:only-of-type {\n",
       "        vertical-align: middle;\n",
       "    }\n",
       "\n",
       "    .dataframe tbody tr th {\n",
       "        vertical-align: top;\n",
       "    }\n",
       "\n",
       "    .dataframe thead th {\n",
       "        text-align: right;\n",
       "    }\n",
       "</style>\n",
       "<table border=\"1\" class=\"dataframe\">\n",
       "  <thead>\n",
       "    <tr style=\"text-align: right;\">\n",
       "      <th></th>\n",
       "      <th>id_x</th>\n",
       "      <th>Negative for Pneumonia</th>\n",
       "      <th>Typical Appearance</th>\n",
       "      <th>Indeterminate Appearance</th>\n",
       "      <th>Atypical Appearance</th>\n",
       "      <th>id_y</th>\n",
       "      <th>boxes</th>\n",
       "      <th>label</th>\n",
       "      <th>StudyInstanceUID</th>\n",
       "    </tr>\n",
       "  </thead>\n",
       "  <tbody>\n",
       "    <tr>\n",
       "      <th>375</th>\n",
       "      <td>0fd2db233deb_study</td>\n",
       "      <td>0</td>\n",
       "      <td>0</td>\n",
       "      <td>1</td>\n",
       "      <td>0</td>\n",
       "      <td>04cc2f7f4c4b_image</td>\n",
       "      <td>NaN</td>\n",
       "      <td>none 1 0 0 1 1</td>\n",
       "      <td>0fd2db233deb_study</td>\n",
       "    </tr>\n",
       "  </tbody>\n",
       "</table>\n",
       "</div>"
      ],
      "text/plain": [
       "                   id_x  Negative for Pneumonia  Typical Appearance  \\\n",
       "375  0fd2db233deb_study                       0                   0   \n",
       "\n",
       "     Indeterminate Appearance  Atypical Appearance                id_y boxes  \\\n",
       "375                         1                    0  04cc2f7f4c4b_image   NaN   \n",
       "\n",
       "              label    StudyInstanceUID  \n",
       "375  none 1 0 0 1 1  0fd2db233deb_study  "
      ]
     },
     "execution_count": 12,
     "metadata": {},
     "output_type": "execute_result"
    }
   ],
   "source": [
    "label_data[label_data['id_y']=='04cc2f7f4c4b_image']"
   ]
  },
  {
   "cell_type": "code",
   "execution_count": 13,
   "id": "7104db4f",
   "metadata": {},
   "outputs": [
    {
     "data": {
      "text/plain": [
       "1f0419f1f5f8_image    1\n",
       "cbfd2079791c_image    1\n",
       "86a2f241cf70_image    1\n",
       "ae21e4271637_image    1\n",
       "e547eeebb69f_image    1\n",
       "                     ..\n",
       "35da4a5a0201_image    1\n",
       "ff0743bee789_image    1\n",
       "df176d43ac18_image    1\n",
       "cfdedbaaaee1_image    1\n",
       "bf1f75117093_image    1\n",
       "Name: id_y, Length: 6334, dtype: int64"
      ]
     },
     "execution_count": 13,
     "metadata": {},
     "output_type": "execute_result"
    }
   ],
   "source": [
    "label_data.id_y.value_counts(ascending=False)"
   ]
  },
  {
   "cell_type": "code",
   "execution_count": 14,
   "id": "b42d9320",
   "metadata": {},
   "outputs": [],
   "source": [
    "label_data.drop_duplicates(subset=['id_x'],inplace=True)"
   ]
  },
  {
   "cell_type": "code",
   "execution_count": 15,
   "id": "650432fe",
   "metadata": {},
   "outputs": [
    {
     "data": {
      "text/plain": [
       "(6054, 9)"
      ]
     },
     "execution_count": 15,
     "metadata": {},
     "output_type": "execute_result"
    }
   ],
   "source": [
    "label_data.shape"
   ]
  },
  {
   "cell_type": "code",
   "execution_count": 16,
   "id": "26cfa7ad",
   "metadata": {},
   "outputs": [
    {
     "data": {
      "text/html": [
       "<div>\n",
       "<style scoped>\n",
       "    .dataframe tbody tr th:only-of-type {\n",
       "        vertical-align: middle;\n",
       "    }\n",
       "\n",
       "    .dataframe tbody tr th {\n",
       "        vertical-align: top;\n",
       "    }\n",
       "\n",
       "    .dataframe thead th {\n",
       "        text-align: right;\n",
       "    }\n",
       "</style>\n",
       "<table border=\"1\" class=\"dataframe\">\n",
       "  <thead>\n",
       "    <tr style=\"text-align: right;\">\n",
       "      <th></th>\n",
       "      <th>id_x</th>\n",
       "      <th>Negative for Pneumonia</th>\n",
       "      <th>Typical Appearance</th>\n",
       "      <th>Indeterminate Appearance</th>\n",
       "      <th>Atypical Appearance</th>\n",
       "      <th>id_y</th>\n",
       "      <th>boxes</th>\n",
       "      <th>label</th>\n",
       "      <th>StudyInstanceUID</th>\n",
       "    </tr>\n",
       "  </thead>\n",
       "  <tbody>\n",
       "    <tr>\n",
       "      <th>0</th>\n",
       "      <td>00086460a852_study</td>\n",
       "      <td>0</td>\n",
       "      <td>1</td>\n",
       "      <td>0</td>\n",
       "      <td>0</td>\n",
       "      <td>65761e66de9f_image</td>\n",
       "      <td>[{'x': 720.65215, 'y': 636.51048, 'width': 332...</td>\n",
       "      <td>opacity 1 720.65215 636.51048 1052.84563 1284....</td>\n",
       "      <td>00086460a852_study</td>\n",
       "    </tr>\n",
       "    <tr>\n",
       "      <th>1</th>\n",
       "      <td>000c9c05fd14_study</td>\n",
       "      <td>0</td>\n",
       "      <td>0</td>\n",
       "      <td>0</td>\n",
       "      <td>1</td>\n",
       "      <td>51759b5579bc_image</td>\n",
       "      <td>NaN</td>\n",
       "      <td>none 1 0 0 1 1</td>\n",
       "      <td>000c9c05fd14_study</td>\n",
       "    </tr>\n",
       "  </tbody>\n",
       "</table>\n",
       "</div>"
      ],
      "text/plain": [
       "                 id_x  Negative for Pneumonia  Typical Appearance  \\\n",
       "0  00086460a852_study                       0                   1   \n",
       "1  000c9c05fd14_study                       0                   0   \n",
       "\n",
       "   Indeterminate Appearance  Atypical Appearance                id_y  \\\n",
       "0                         0                    0  65761e66de9f_image   \n",
       "1                         0                    1  51759b5579bc_image   \n",
       "\n",
       "                                               boxes  \\\n",
       "0  [{'x': 720.65215, 'y': 636.51048, 'width': 332...   \n",
       "1                                                NaN   \n",
       "\n",
       "                                               label    StudyInstanceUID  \n",
       "0  opacity 1 720.65215 636.51048 1052.84563 1284....  00086460a852_study  \n",
       "1                                     none 1 0 0 1 1  000c9c05fd14_study  "
      ]
     },
     "execution_count": 16,
     "metadata": {},
     "output_type": "execute_result"
    }
   ],
   "source": [
    "label_data.head(2)"
   ]
  },
  {
   "cell_type": "code",
   "execution_count": 17,
   "id": "39871f0f",
   "metadata": {},
   "outputs": [
    {
     "data": {
      "text/plain": [
       "Index(['id_x', 'Negative for Pneumonia', 'Typical Appearance',\n",
       "       'Indeterminate Appearance', 'Atypical Appearance', 'id_y', 'boxes',\n",
       "       'label', 'StudyInstanceUID'],\n",
       "      dtype='object')"
      ]
     },
     "execution_count": 17,
     "metadata": {},
     "output_type": "execute_result"
    }
   ],
   "source": [
    "label_data.columns"
   ]
  },
  {
   "cell_type": "code",
   "execution_count": 18,
   "id": "75ae9293",
   "metadata": {},
   "outputs": [],
   "source": [
    "for i in ['Negative for Pneumonia', 'Typical Appearance','Indeterminate Appearance', 'Atypical Appearance']:\n",
    "    label_data[i] = label_data[i].replace(1,i) "
   ]
  },
  {
   "cell_type": "code",
   "execution_count": 19,
   "id": "3e144be6",
   "metadata": {},
   "outputs": [],
   "source": [
    "label_data['target'] = label_data['Negative for Pneumonia'].astype('str') + label_data['Atypical Appearance'].astype('str') + \\\n",
    "                        label_data['Typical Appearance'].astype('str') + label_data['Indeterminate Appearance'].astype('str')"
   ]
  },
  {
   "cell_type": "code",
   "execution_count": 20,
   "id": "dd0112e8",
   "metadata": {},
   "outputs": [],
   "source": [
    "label_data['target'] = label_data['target'].apply(lambda x: re.sub('0','',x))"
   ]
  },
  {
   "cell_type": "code",
   "execution_count": 21,
   "id": "b7c12a3b",
   "metadata": {},
   "outputs": [
    {
     "data": {
      "text/plain": [
       "Typical Appearance          2855\n",
       "Negative for Pneumonia      1676\n",
       "Indeterminate Appearance    1049\n",
       "Atypical Appearance          474\n",
       "Name: target, dtype: int64"
      ]
     },
     "execution_count": 21,
     "metadata": {},
     "output_type": "execute_result"
    }
   ],
   "source": [
    "label_data['target'].value_counts()"
   ]
  },
  {
   "cell_type": "code",
   "execution_count": 22,
   "id": "30640e46",
   "metadata": {},
   "outputs": [
    {
     "data": {
      "text/html": [
       "<div>\n",
       "<style scoped>\n",
       "    .dataframe tbody tr th:only-of-type {\n",
       "        vertical-align: middle;\n",
       "    }\n",
       "\n",
       "    .dataframe tbody tr th {\n",
       "        vertical-align: top;\n",
       "    }\n",
       "\n",
       "    .dataframe thead th {\n",
       "        text-align: right;\n",
       "    }\n",
       "</style>\n",
       "<table border=\"1\" class=\"dataframe\">\n",
       "  <thead>\n",
       "    <tr style=\"text-align: right;\">\n",
       "      <th></th>\n",
       "      <th>id_x</th>\n",
       "      <th>Negative for Pneumonia</th>\n",
       "      <th>Typical Appearance</th>\n",
       "      <th>Indeterminate Appearance</th>\n",
       "      <th>Atypical Appearance</th>\n",
       "      <th>id_y</th>\n",
       "      <th>boxes</th>\n",
       "      <th>label</th>\n",
       "      <th>StudyInstanceUID</th>\n",
       "      <th>target</th>\n",
       "    </tr>\n",
       "  </thead>\n",
       "  <tbody>\n",
       "    <tr>\n",
       "      <th>3720</th>\n",
       "      <td>97692c000b63_study</td>\n",
       "      <td>0</td>\n",
       "      <td>Typical Appearance</td>\n",
       "      <td>0</td>\n",
       "      <td>0</td>\n",
       "      <td>20db49453bf4_image</td>\n",
       "      <td>[{'x': 574.28399, 'y': 657.98967, 'width': 695...</td>\n",
       "      <td>opacity 1 574.28399 657.98967 1270.23242 1234....</td>\n",
       "      <td>97692c000b63_study</td>\n",
       "      <td>Typical Appearance</td>\n",
       "    </tr>\n",
       "  </tbody>\n",
       "</table>\n",
       "</div>"
      ],
      "text/plain": [
       "                    id_x Negative for Pneumonia  Typical Appearance  \\\n",
       "3720  97692c000b63_study                      0  Typical Appearance   \n",
       "\n",
       "     Indeterminate Appearance Atypical Appearance                id_y  \\\n",
       "3720                        0                   0  20db49453bf4_image   \n",
       "\n",
       "                                                  boxes  \\\n",
       "3720  [{'x': 574.28399, 'y': 657.98967, 'width': 695...   \n",
       "\n",
       "                                                  label    StudyInstanceUID  \\\n",
       "3720  opacity 1 574.28399 657.98967 1270.23242 1234....  97692c000b63_study   \n",
       "\n",
       "                  target  \n",
       "3720  Typical Appearance  "
      ]
     },
     "execution_count": 22,
     "metadata": {},
     "output_type": "execute_result"
    }
   ],
   "source": [
    "label_data.sample()"
   ]
  },
  {
   "cell_type": "code",
   "execution_count": 23,
   "id": "4d6127ed",
   "metadata": {},
   "outputs": [],
   "source": [
    "label_data['id_y'] = label_data['id_y'].apply(lambda x: re.sub('_image','.jpg',x))"
   ]
  },
  {
   "cell_type": "code",
   "execution_count": 24,
   "id": "6bf5aa6b",
   "metadata": {},
   "outputs": [],
   "source": [
    "label_data['path'] = 'gs://qwiklabs-gcp-03-365bf9c0599c-kaggle/train/' + label_data['id_y'].astype('str')"
   ]
  },
  {
   "cell_type": "code",
   "execution_count": 25,
   "id": "19d80441",
   "metadata": {},
   "outputs": [
    {
     "data": {
      "text/html": [
       "<div>\n",
       "<style scoped>\n",
       "    .dataframe tbody tr th:only-of-type {\n",
       "        vertical-align: middle;\n",
       "    }\n",
       "\n",
       "    .dataframe tbody tr th {\n",
       "        vertical-align: top;\n",
       "    }\n",
       "\n",
       "    .dataframe thead th {\n",
       "        text-align: right;\n",
       "    }\n",
       "</style>\n",
       "<table border=\"1\" class=\"dataframe\">\n",
       "  <thead>\n",
       "    <tr style=\"text-align: right;\">\n",
       "      <th></th>\n",
       "      <th>id_x</th>\n",
       "      <th>Negative for Pneumonia</th>\n",
       "      <th>Typical Appearance</th>\n",
       "      <th>Indeterminate Appearance</th>\n",
       "      <th>Atypical Appearance</th>\n",
       "      <th>id_y</th>\n",
       "      <th>boxes</th>\n",
       "      <th>label</th>\n",
       "      <th>StudyInstanceUID</th>\n",
       "      <th>target</th>\n",
       "      <th>path</th>\n",
       "    </tr>\n",
       "  </thead>\n",
       "  <tbody>\n",
       "    <tr>\n",
       "      <th>0</th>\n",
       "      <td>00086460a852_study</td>\n",
       "      <td>0</td>\n",
       "      <td>Typical Appearance</td>\n",
       "      <td>0</td>\n",
       "      <td>0</td>\n",
       "      <td>65761e66de9f.jpg</td>\n",
       "      <td>[{'x': 720.65215, 'y': 636.51048, 'width': 332...</td>\n",
       "      <td>opacity 1 720.65215 636.51048 1052.84563 1284....</td>\n",
       "      <td>00086460a852_study</td>\n",
       "      <td>Typical Appearance</td>\n",
       "      <td>gs://qwiklabs-gcp-03-365bf9c0599c-kaggle/train...</td>\n",
       "    </tr>\n",
       "    <tr>\n",
       "      <th>1</th>\n",
       "      <td>000c9c05fd14_study</td>\n",
       "      <td>0</td>\n",
       "      <td>0</td>\n",
       "      <td>0</td>\n",
       "      <td>Atypical Appearance</td>\n",
       "      <td>51759b5579bc.jpg</td>\n",
       "      <td>NaN</td>\n",
       "      <td>none 1 0 0 1 1</td>\n",
       "      <td>000c9c05fd14_study</td>\n",
       "      <td>Atypical Appearance</td>\n",
       "      <td>gs://qwiklabs-gcp-03-365bf9c0599c-kaggle/train...</td>\n",
       "    </tr>\n",
       "  </tbody>\n",
       "</table>\n",
       "</div>"
      ],
      "text/plain": [
       "                 id_x Negative for Pneumonia  Typical Appearance  \\\n",
       "0  00086460a852_study                      0  Typical Appearance   \n",
       "1  000c9c05fd14_study                      0                   0   \n",
       "\n",
       "  Indeterminate Appearance  Atypical Appearance              id_y  \\\n",
       "0                        0                    0  65761e66de9f.jpg   \n",
       "1                        0  Atypical Appearance  51759b5579bc.jpg   \n",
       "\n",
       "                                               boxes  \\\n",
       "0  [{'x': 720.65215, 'y': 636.51048, 'width': 332...   \n",
       "1                                                NaN   \n",
       "\n",
       "                                               label    StudyInstanceUID  \\\n",
       "0  opacity 1 720.65215 636.51048 1052.84563 1284....  00086460a852_study   \n",
       "1                                     none 1 0 0 1 1  000c9c05fd14_study   \n",
       "\n",
       "                target                                               path  \n",
       "0   Typical Appearance  gs://qwiklabs-gcp-03-365bf9c0599c-kaggle/train...  \n",
       "1  Atypical Appearance  gs://qwiklabs-gcp-03-365bf9c0599c-kaggle/train...  "
      ]
     },
     "execution_count": 25,
     "metadata": {},
     "output_type": "execute_result"
    }
   ],
   "source": [
    "label_data.head(2)"
   ]
  },
  {
   "cell_type": "code",
   "execution_count": 26,
   "id": "efb79a02",
   "metadata": {},
   "outputs": [
    {
     "data": {
      "text/plain": [
       "Typical Appearance          2855\n",
       "Negative for Pneumonia      1676\n",
       "Indeterminate Appearance    1049\n",
       "Atypical Appearance          474\n",
       "Name: target, dtype: int64"
      ]
     },
     "execution_count": 26,
     "metadata": {},
     "output_type": "execute_result"
    }
   ],
   "source": [
    "label_data.target.value_counts()"
   ]
  },
  {
   "cell_type": "code",
   "execution_count": 27,
   "id": "cb62bc13",
   "metadata": {},
   "outputs": [],
   "source": [
    "label_data['target'] = label_data['target'].apply(lambda x: re.sub(' ','_',x))"
   ]
  },
  {
   "cell_type": "markdown",
   "id": "6f66dfe9",
   "metadata": {},
   "source": [
    "### Size prediction"
   ]
  },
  {
   "cell_type": "code",
   "execution_count": 43,
   "id": "d0e8ba8b",
   "metadata": {},
   "outputs": [],
   "source": [
    "object_tag = []\n",
    "for i,j in enumerate(label_data.id_y):\n",
    "    try:\n",
    "        image = cv2.imread('kaggle_data/train/'+j,0)\n",
    "        x_max,y_max = image.shape\n",
    "        list_len = label_data.label.iloc[i].split(' ')\n",
    "        iter_run = len(list_len)//6\n",
    "        ls = []\n",
    "        if list_len[0]=='opacity':\n",
    "            for k in range(0,iter_run):\n",
    "                if k == 0:\n",
    "                    new_ls = []\n",
    "#                     new_ls.append(list_len[0])\n",
    "                    new_ls.append(float(list_len[2])/y_max)\n",
    "                    new_ls.append(float(list_len[3])/x_max)\n",
    "                    new_ls.append(float(list_len[4])/y_max)\n",
    "                    new_ls.append(float(list_len[5])/x_max)\n",
    "                    ls.append(new_ls)\n",
    "                else:\n",
    "                    new_ls = []\n",
    "                    new_ls.append(float(list_len[2+(6*k)])/y_max)\n",
    "                    new_ls.append(float(list_len[3+(6*k)])/x_max)\n",
    "                    new_ls.append(float(list_len[4+(6*k)])/y_max)\n",
    "                    new_ls.append(float(list_len[5+(6*k)])/x_max)\n",
    "                    ls.append(new_ls)\n",
    "#                     print(ls)\n",
    "        else:\n",
    "#             ls.append(list_len[0])\n",
    "#             ls.append(0)\n",
    "#             ls.append(0)\n",
    "#             ls.append(1)\n",
    "#             ls.append(1)\n",
    "            new_ls = []\n",
    "            new_ls.append(0)\n",
    "            new_ls.append(0)\n",
    "            new_ls.append(1)\n",
    "            new_ls.append(1)\n",
    "            ls.append(new_ls)\n",
    "    except:\n",
    "        pass\n",
    "    object_tag.append(ls)\n",
    "#     break"
   ]
  },
  {
   "cell_type": "code",
   "execution_count": 45,
   "id": "6d37f355",
   "metadata": {},
   "outputs": [],
   "source": [
    "label_data['image_detection'] = object_tag"
   ]
  },
  {
   "cell_type": "code",
   "execution_count": 50,
   "id": "bab588c3",
   "metadata": {},
   "outputs": [],
   "source": [
    "label_data = label_data.explode('image_detection')"
   ]
  },
  {
   "cell_type": "code",
   "execution_count": 51,
   "id": "5fcd7beb",
   "metadata": {},
   "outputs": [],
   "source": [
    "subset_data = label_data[['path','target','image_detection']]"
   ]
  },
  {
   "cell_type": "code",
   "execution_count": 52,
   "id": "10326636",
   "metadata": {},
   "outputs": [
    {
     "data": {
      "text/html": [
       "<div>\n",
       "<style scoped>\n",
       "    .dataframe tbody tr th:only-of-type {\n",
       "        vertical-align: middle;\n",
       "    }\n",
       "\n",
       "    .dataframe tbody tr th {\n",
       "        vertical-align: top;\n",
       "    }\n",
       "\n",
       "    .dataframe thead th {\n",
       "        text-align: right;\n",
       "    }\n",
       "</style>\n",
       "<table border=\"1\" class=\"dataframe\">\n",
       "  <thead>\n",
       "    <tr style=\"text-align: right;\">\n",
       "      <th></th>\n",
       "      <th>path</th>\n",
       "      <th>target</th>\n",
       "      <th>image_detection</th>\n",
       "    </tr>\n",
       "  </thead>\n",
       "  <tbody>\n",
       "    <tr>\n",
       "      <th>0</th>\n",
       "      <td>gs://qwiklabs-gcp-03-365bf9c0599c-kaggle/train...</td>\n",
       "      <td>Typical_Appearance</td>\n",
       "      <td>[0.258947951850521, 0.2731804635193133, 0.3783...</td>\n",
       "    </tr>\n",
       "    <tr>\n",
       "      <th>0</th>\n",
       "      <td>gs://qwiklabs-gcp-03-365bf9c0599c-kaggle/train...</td>\n",
       "      <td>Typical_Appearance</td>\n",
       "      <td>[0.7347394502335609, 0.3639082489270386, 0.853...</td>\n",
       "    </tr>\n",
       "    <tr>\n",
       "      <th>1</th>\n",
       "      <td>gs://qwiklabs-gcp-03-365bf9c0599c-kaggle/train...</td>\n",
       "      <td>Atypical_Appearance</td>\n",
       "      <td>[0, 0, 1, 1]</td>\n",
       "    </tr>\n",
       "    <tr>\n",
       "      <th>2</th>\n",
       "      <td>gs://qwiklabs-gcp-03-365bf9c0599c-kaggle/train...</td>\n",
       "      <td>Negative_for_Pneumonia</td>\n",
       "      <td>[0, 0, 1, 1]</td>\n",
       "    </tr>\n",
       "    <tr>\n",
       "      <th>3</th>\n",
       "      <td>gs://qwiklabs-gcp-03-365bf9c0599c-kaggle/train...</td>\n",
       "      <td>Negative_for_Pneumonia</td>\n",
       "      <td>[0, 0, 1, 1]</td>\n",
       "    </tr>\n",
       "    <tr>\n",
       "      <th>...</th>\n",
       "      <td>...</td>\n",
       "      <td>...</td>\n",
       "      <td>...</td>\n",
       "    </tr>\n",
       "    <tr>\n",
       "      <th>6331</th>\n",
       "      <td>gs://qwiklabs-gcp-03-365bf9c0599c-kaggle/train...</td>\n",
       "      <td>Typical_Appearance</td>\n",
       "      <td>[0.4800375758575198, 0.34176191269841266, 0.79...</td>\n",
       "    </tr>\n",
       "    <tr>\n",
       "      <th>6332</th>\n",
       "      <td>gs://qwiklabs-gcp-03-365bf9c0599c-kaggle/train...</td>\n",
       "      <td>Typical_Appearance</td>\n",
       "      <td>[0.14961774771609276, 0.18234397854077253, 0.3...</td>\n",
       "    </tr>\n",
       "    <tr>\n",
       "      <th>6332</th>\n",
       "      <td>gs://qwiklabs-gcp-03-365bf9c0599c-kaggle/train...</td>\n",
       "      <td>Typical_Appearance</td>\n",
       "      <td>[0.5364447189037245, 0.36751030042918453, 0.84...</td>\n",
       "    </tr>\n",
       "    <tr>\n",
       "      <th>6333</th>\n",
       "      <td>gs://qwiklabs-gcp-03-365bf9c0599c-kaggle/train...</td>\n",
       "      <td>Typical_Appearance</td>\n",
       "      <td>[0.22347811440677964, 0.42983565229885057, 0.3...</td>\n",
       "    </tr>\n",
       "    <tr>\n",
       "      <th>6333</th>\n",
       "      <td>gs://qwiklabs-gcp-03-365bf9c0599c-kaggle/train...</td>\n",
       "      <td>Typical_Appearance</td>\n",
       "      <td>[0.719560451977401, 0.46649810344827586, 0.854...</td>\n",
       "    </tr>\n",
       "  </tbody>\n",
       "</table>\n",
       "<p>9553 rows × 3 columns</p>\n",
       "</div>"
      ],
      "text/plain": [
       "                                                   path  \\\n",
       "0     gs://qwiklabs-gcp-03-365bf9c0599c-kaggle/train...   \n",
       "0     gs://qwiklabs-gcp-03-365bf9c0599c-kaggle/train...   \n",
       "1     gs://qwiklabs-gcp-03-365bf9c0599c-kaggle/train...   \n",
       "2     gs://qwiklabs-gcp-03-365bf9c0599c-kaggle/train...   \n",
       "3     gs://qwiklabs-gcp-03-365bf9c0599c-kaggle/train...   \n",
       "...                                                 ...   \n",
       "6331  gs://qwiklabs-gcp-03-365bf9c0599c-kaggle/train...   \n",
       "6332  gs://qwiklabs-gcp-03-365bf9c0599c-kaggle/train...   \n",
       "6332  gs://qwiklabs-gcp-03-365bf9c0599c-kaggle/train...   \n",
       "6333  gs://qwiklabs-gcp-03-365bf9c0599c-kaggle/train...   \n",
       "6333  gs://qwiklabs-gcp-03-365bf9c0599c-kaggle/train...   \n",
       "\n",
       "                      target  \\\n",
       "0         Typical_Appearance   \n",
       "0         Typical_Appearance   \n",
       "1        Atypical_Appearance   \n",
       "2     Negative_for_Pneumonia   \n",
       "3     Negative_for_Pneumonia   \n",
       "...                      ...   \n",
       "6331      Typical_Appearance   \n",
       "6332      Typical_Appearance   \n",
       "6332      Typical_Appearance   \n",
       "6333      Typical_Appearance   \n",
       "6333      Typical_Appearance   \n",
       "\n",
       "                                        image_detection  \n",
       "0     [0.258947951850521, 0.2731804635193133, 0.3783...  \n",
       "0     [0.7347394502335609, 0.3639082489270386, 0.853...  \n",
       "1                                          [0, 0, 1, 1]  \n",
       "2                                          [0, 0, 1, 1]  \n",
       "3                                          [0, 0, 1, 1]  \n",
       "...                                                 ...  \n",
       "6331  [0.4800375758575198, 0.34176191269841266, 0.79...  \n",
       "6332  [0.14961774771609276, 0.18234397854077253, 0.3...  \n",
       "6332  [0.5364447189037245, 0.36751030042918453, 0.84...  \n",
       "6333  [0.22347811440677964, 0.42983565229885057, 0.3...  \n",
       "6333  [0.719560451977401, 0.46649810344827586, 0.854...  \n",
       "\n",
       "[9553 rows x 3 columns]"
      ]
     },
     "execution_count": 52,
     "metadata": {},
     "output_type": "execute_result"
    }
   ],
   "source": [
    "subset_data"
   ]
  },
  {
   "cell_type": "code",
   "execution_count": 53,
   "id": "b3c31796",
   "metadata": {},
   "outputs": [],
   "source": [
    "subset_data = subset_data.reset_index(drop=True)"
   ]
  },
  {
   "cell_type": "code",
   "execution_count": 54,
   "id": "db9d91d2",
   "metadata": {},
   "outputs": [],
   "source": [
    "bounding_box = subset_data['image_detection'].apply(pd.Series)"
   ]
  },
  {
   "cell_type": "code",
   "execution_count": 55,
   "id": "4782323b",
   "metadata": {},
   "outputs": [],
   "source": [
    "objection_df = subset_data[['path','target']]"
   ]
  },
  {
   "cell_type": "code",
   "execution_count": 58,
   "id": "6acc2414",
   "metadata": {},
   "outputs": [],
   "source": [
    "objection_df = pd.concat([objection_df,bounding_box[[0,1,2,3]]],axis=1)"
   ]
  },
  {
   "cell_type": "code",
   "execution_count": 59,
   "id": "fc75a414",
   "metadata": {},
   "outputs": [],
   "source": [
    "objection_df[['x1','y1','x2','y2']] = objection_df[[0,1,2,3]]"
   ]
  },
  {
   "cell_type": "code",
   "execution_count": 60,
   "id": "7b52bf2a",
   "metadata": {},
   "outputs": [
    {
     "data": {
      "text/html": [
       "<div>\n",
       "<style scoped>\n",
       "    .dataframe tbody tr th:only-of-type {\n",
       "        vertical-align: middle;\n",
       "    }\n",
       "\n",
       "    .dataframe tbody tr th {\n",
       "        vertical-align: top;\n",
       "    }\n",
       "\n",
       "    .dataframe thead th {\n",
       "        text-align: right;\n",
       "    }\n",
       "</style>\n",
       "<table border=\"1\" class=\"dataframe\">\n",
       "  <thead>\n",
       "    <tr style=\"text-align: right;\">\n",
       "      <th></th>\n",
       "      <th>path</th>\n",
       "      <th>target</th>\n",
       "      <th>x1</th>\n",
       "      <th>y1</th>\n",
       "      <th>x2</th>\n",
       "      <th>1</th>\n",
       "      <th>2</th>\n",
       "      <th>3</th>\n",
       "      <th>0</th>\n",
       "      <th>y2</th>\n",
       "    </tr>\n",
       "  </thead>\n",
       "  <tbody>\n",
       "    <tr>\n",
       "      <th>0</th>\n",
       "      <td>gs://qwiklabs-gcp-03-365bf9c0599c-kaggle/train...</td>\n",
       "      <td>Typical_Appearance</td>\n",
       "      <td>0.258948</td>\n",
       "      <td>0.273180</td>\n",
       "      <td>0.378313</td>\n",
       "      <td>0.273180</td>\n",
       "      <td>0.378313</td>\n",
       "      <td>0.551346</td>\n",
       "      <td>0.258948</td>\n",
       "      <td>0.551346</td>\n",
       "    </tr>\n",
       "    <tr>\n",
       "      <th>1</th>\n",
       "      <td>gs://qwiklabs-gcp-03-365bf9c0599c-kaggle/train...</td>\n",
       "      <td>Typical_Appearance</td>\n",
       "      <td>0.734739</td>\n",
       "      <td>0.363908</td>\n",
       "      <td>0.853270</td>\n",
       "      <td>0.363908</td>\n",
       "      <td>0.853270</td>\n",
       "      <td>0.611166</td>\n",
       "      <td>0.734739</td>\n",
       "      <td>0.611166</td>\n",
       "    </tr>\n",
       "    <tr>\n",
       "      <th>2</th>\n",
       "      <td>gs://qwiklabs-gcp-03-365bf9c0599c-kaggle/train...</td>\n",
       "      <td>Atypical_Appearance</td>\n",
       "      <td>0.000000</td>\n",
       "      <td>0.000000</td>\n",
       "      <td>1.000000</td>\n",
       "      <td>0.000000</td>\n",
       "      <td>1.000000</td>\n",
       "      <td>1.000000</td>\n",
       "      <td>0.000000</td>\n",
       "      <td>1.000000</td>\n",
       "    </tr>\n",
       "    <tr>\n",
       "      <th>3</th>\n",
       "      <td>gs://qwiklabs-gcp-03-365bf9c0599c-kaggle/train...</td>\n",
       "      <td>Negative_for_Pneumonia</td>\n",
       "      <td>0.000000</td>\n",
       "      <td>0.000000</td>\n",
       "      <td>1.000000</td>\n",
       "      <td>0.000000</td>\n",
       "      <td>1.000000</td>\n",
       "      <td>1.000000</td>\n",
       "      <td>0.000000</td>\n",
       "      <td>1.000000</td>\n",
       "    </tr>\n",
       "    <tr>\n",
       "      <th>4</th>\n",
       "      <td>gs://qwiklabs-gcp-03-365bf9c0599c-kaggle/train...</td>\n",
       "      <td>Negative_for_Pneumonia</td>\n",
       "      <td>0.000000</td>\n",
       "      <td>0.000000</td>\n",
       "      <td>1.000000</td>\n",
       "      <td>0.000000</td>\n",
       "      <td>1.000000</td>\n",
       "      <td>1.000000</td>\n",
       "      <td>0.000000</td>\n",
       "      <td>1.000000</td>\n",
       "    </tr>\n",
       "    <tr>\n",
       "      <th>...</th>\n",
       "      <td>...</td>\n",
       "      <td>...</td>\n",
       "      <td>...</td>\n",
       "      <td>...</td>\n",
       "      <td>...</td>\n",
       "      <td>...</td>\n",
       "      <td>...</td>\n",
       "      <td>...</td>\n",
       "      <td>...</td>\n",
       "      <td>...</td>\n",
       "    </tr>\n",
       "    <tr>\n",
       "      <th>9548</th>\n",
       "      <td>gs://qwiklabs-gcp-03-365bf9c0599c-kaggle/train...</td>\n",
       "      <td>Typical_Appearance</td>\n",
       "      <td>0.480038</td>\n",
       "      <td>0.341762</td>\n",
       "      <td>0.799436</td>\n",
       "      <td>0.341762</td>\n",
       "      <td>0.799436</td>\n",
       "      <td>0.939111</td>\n",
       "      <td>0.480038</td>\n",
       "      <td>0.939111</td>\n",
       "    </tr>\n",
       "    <tr>\n",
       "      <th>9549</th>\n",
       "      <td>gs://qwiklabs-gcp-03-365bf9c0599c-kaggle/train...</td>\n",
       "      <td>Typical_Appearance</td>\n",
       "      <td>0.149618</td>\n",
       "      <td>0.182344</td>\n",
       "      <td>0.335190</td>\n",
       "      <td>0.182344</td>\n",
       "      <td>0.335190</td>\n",
       "      <td>0.677824</td>\n",
       "      <td>0.149618</td>\n",
       "      <td>0.677824</td>\n",
       "    </tr>\n",
       "    <tr>\n",
       "      <th>9550</th>\n",
       "      <td>gs://qwiklabs-gcp-03-365bf9c0599c-kaggle/train...</td>\n",
       "      <td>Typical_Appearance</td>\n",
       "      <td>0.536445</td>\n",
       "      <td>0.367510</td>\n",
       "      <td>0.849565</td>\n",
       "      <td>0.367510</td>\n",
       "      <td>0.849565</td>\n",
       "      <td>0.717411</td>\n",
       "      <td>0.536445</td>\n",
       "      <td>0.717411</td>\n",
       "    </tr>\n",
       "    <tr>\n",
       "      <th>9551</th>\n",
       "      <td>gs://qwiklabs-gcp-03-365bf9c0599c-kaggle/train...</td>\n",
       "      <td>Typical_Appearance</td>\n",
       "      <td>0.223478</td>\n",
       "      <td>0.429836</td>\n",
       "      <td>0.392291</td>\n",
       "      <td>0.429836</td>\n",
       "      <td>0.392291</td>\n",
       "      <td>0.800253</td>\n",
       "      <td>0.223478</td>\n",
       "      <td>0.800253</td>\n",
       "    </tr>\n",
       "    <tr>\n",
       "      <th>9552</th>\n",
       "      <td>gs://qwiklabs-gcp-03-365bf9c0599c-kaggle/train...</td>\n",
       "      <td>Typical_Appearance</td>\n",
       "      <td>0.719560</td>\n",
       "      <td>0.466498</td>\n",
       "      <td>0.854197</td>\n",
       "      <td>0.466498</td>\n",
       "      <td>0.854197</td>\n",
       "      <td>0.781289</td>\n",
       "      <td>0.719560</td>\n",
       "      <td>0.781289</td>\n",
       "    </tr>\n",
       "  </tbody>\n",
       "</table>\n",
       "<p>9553 rows × 10 columns</p>\n",
       "</div>"
      ],
      "text/plain": [
       "                                                   path  \\\n",
       "0     gs://qwiklabs-gcp-03-365bf9c0599c-kaggle/train...   \n",
       "1     gs://qwiklabs-gcp-03-365bf9c0599c-kaggle/train...   \n",
       "2     gs://qwiklabs-gcp-03-365bf9c0599c-kaggle/train...   \n",
       "3     gs://qwiklabs-gcp-03-365bf9c0599c-kaggle/train...   \n",
       "4     gs://qwiklabs-gcp-03-365bf9c0599c-kaggle/train...   \n",
       "...                                                 ...   \n",
       "9548  gs://qwiklabs-gcp-03-365bf9c0599c-kaggle/train...   \n",
       "9549  gs://qwiklabs-gcp-03-365bf9c0599c-kaggle/train...   \n",
       "9550  gs://qwiklabs-gcp-03-365bf9c0599c-kaggle/train...   \n",
       "9551  gs://qwiklabs-gcp-03-365bf9c0599c-kaggle/train...   \n",
       "9552  gs://qwiklabs-gcp-03-365bf9c0599c-kaggle/train...   \n",
       "\n",
       "                      target        x1        y1        x2         1  \\\n",
       "0         Typical_Appearance  0.258948  0.273180  0.378313  0.273180   \n",
       "1         Typical_Appearance  0.734739  0.363908  0.853270  0.363908   \n",
       "2        Atypical_Appearance  0.000000  0.000000  1.000000  0.000000   \n",
       "3     Negative_for_Pneumonia  0.000000  0.000000  1.000000  0.000000   \n",
       "4     Negative_for_Pneumonia  0.000000  0.000000  1.000000  0.000000   \n",
       "...                      ...       ...       ...       ...       ...   \n",
       "9548      Typical_Appearance  0.480038  0.341762  0.799436  0.341762   \n",
       "9549      Typical_Appearance  0.149618  0.182344  0.335190  0.182344   \n",
       "9550      Typical_Appearance  0.536445  0.367510  0.849565  0.367510   \n",
       "9551      Typical_Appearance  0.223478  0.429836  0.392291  0.429836   \n",
       "9552      Typical_Appearance  0.719560  0.466498  0.854197  0.466498   \n",
       "\n",
       "             2         3         0        y2  \n",
       "0     0.378313  0.551346  0.258948  0.551346  \n",
       "1     0.853270  0.611166  0.734739  0.611166  \n",
       "2     1.000000  1.000000  0.000000  1.000000  \n",
       "3     1.000000  1.000000  0.000000  1.000000  \n",
       "4     1.000000  1.000000  0.000000  1.000000  \n",
       "...        ...       ...       ...       ...  \n",
       "9548  0.799436  0.939111  0.480038  0.939111  \n",
       "9549  0.335190  0.677824  0.149618  0.677824  \n",
       "9550  0.849565  0.717411  0.536445  0.717411  \n",
       "9551  0.392291  0.800253  0.223478  0.800253  \n",
       "9552  0.854197  0.781289  0.719560  0.781289  \n",
       "\n",
       "[9553 rows x 10 columns]"
      ]
     },
     "execution_count": 60,
     "metadata": {},
     "output_type": "execute_result"
    }
   ],
   "source": [
    "objection_df[['path','target','x1','y1','x2',1,2,3,0,'y2']]"
   ]
  },
  {
   "cell_type": "code",
   "execution_count": 61,
   "id": "4950b377",
   "metadata": {},
   "outputs": [],
   "source": [
    "objection_df['set'] = 'UNASSIGNED'"
   ]
  },
  {
   "cell_type": "code",
   "execution_count": 64,
   "id": "6ca9f3d9",
   "metadata": {},
   "outputs": [],
   "source": [
    "new_df = objection_df.loc[objection_df.target!='Negative_for_Pneumonia']"
   ]
  },
  {
   "cell_type": "code",
   "execution_count": 65,
   "id": "f9950037",
   "metadata": {},
   "outputs": [],
   "source": [
    "new_df[['set','path','target','x1','y1','x2',1,2,3,0,'y2']].to_csv('./kaggle_data/object_detection.csv',index=False,header=True)"
   ]
  },
  {
   "cell_type": "markdown",
   "id": "a6d20bf8",
   "metadata": {},
   "source": [
    "#### transferring data to storage"
   ]
  },
  {
   "cell_type": "code",
   "execution_count": 67,
   "id": "b5c72021",
   "metadata": {},
   "outputs": [
    {
     "name": "stdout",
     "output_type": "stream",
     "text": [
      "Copying file:///home/jupyter/kaggle_data/object_detection.csv [Content-Type=text/csv]...\n",
      "/ [1/1 files][  1.8 MiB/  1.8 MiB] 100% Done                                    \n",
      "Operation completed over 1 objects/1.8 MiB.                                      \n"
     ]
    }
   ],
   "source": [
    "!gsutil -m cp -r /home/jupyter/kaggle_data/object_detection.csv gs://qwiklabs-gcp-03-365bf9c0599c-kaggle/"
   ]
  },
  {
   "cell_type": "code",
   "execution_count": null,
   "id": "5f3c8ac0",
   "metadata": {},
   "outputs": [],
   "source": []
  }
 ],
 "metadata": {
  "environment": {
   "name": "tf2-gpu.2-3.m71",
   "type": "gcloud",
   "uri": "gcr.io/deeplearning-platform-release/tf2-gpu.2-3:m71"
  },
  "kernelspec": {
   "display_name": "Python 3",
   "language": "python",
   "name": "python3"
  },
  "language_info": {
   "codemirror_mode": {
    "name": "ipython",
    "version": 3
   },
   "file_extension": ".py",
   "mimetype": "text/x-python",
   "name": "python",
   "nbconvert_exporter": "python",
   "pygments_lexer": "ipython3",
   "version": "3.7.10"
  }
 },
 "nbformat": 4,
 "nbformat_minor": 5
}
